{
    "cells": [
        {
            "cell_type": "code",
            "execution_count": 1,
            "id": "7f29e50d-a794-4acb-9fcf-22645e12a0a9",
            "metadata": {
                "collapsed": true,
                "jupyter": {
                    "outputs_hidden": true
                },
                "tags": []
            },
            "outputs": [],
            "source": [
                "!pip install -U sagemaker\n",
                "!pip install -U -r requirements.txt"
            ]
        },
        {
            "cell_type": "code",
            "execution_count": 2,
            "id": "9d876859-adff-4ba3-b6f5-08fcac030cc5",
            "metadata": {
                "tags": []
            },
            "outputs": [
                {
                    "name": "stdout",
                    "output_type": "stream",
                    "text": [
                        "boto3 @ file:///home/conda/feedstock_root/build_artifacts/boto3_1683763173043/work\n",
                        "farm-haystack==1.21.0\n",
                        "opensearch-py==2.3.1\n",
                        "sagemaker==2.188.0\n",
                        "sagemaker-experiments==0.1.43\n",
                        "sagemaker-pytorch-training==2.8.0\n",
                        "sagemaker-training==4.5.0\n",
                        "sentence-transformers==2.2.2\n",
                        "smdebug @ file:///tmp/sagemaker-debugger\n",
                        "torch==2.0.0\n",
                        "torchaudio==2.0.1\n",
                        "torchdata @ file:///opt/conda/conda-bld/torchdata_1679615656247/work\n",
                        "torchtext==0.15.1\n",
                        "torchvision==0.15.1\n",
                        "transformers==4.32.1\n"
                    ]
                }
            ],
            "source": [
                "!pip freeze | grep -E \"sagemaker|boto3|haystack|opensearch|transformers|torch\""
            ]
        },
        {
            "cell_type": "code",
            "execution_count": 3,
            "id": "6a90d100-4fc8-49d6-9829-0aafcefff7c7",
            "metadata": {
                "tags": []
            },
            "outputs": [],
            "source": [
                "import boto3\n",
                "\n",
                "AWS_REGION_NAME = boto3.session.Session().region_name\n",
                "AWS_REGION_NAME"
            ]
        },
        {
            "cell_type": "code",
            "execution_count": 4,
            "id": "79d42f07-ee7e-40d4-b93d-f95c447c88e3",
            "metadata": {
                "tags": []
            },
            "outputs": [],
            "source": [
                "import boto3\n",
                "import json\n",
                "\n",
                "\n",
                "def get_opensearch_endpoint(stack_name: str, region_name: str = 'us-east-1'):\n",
                "    cf_client = boto3.client('cloudformation', region_name=region_name)\n",
                "    response = cf_client.describe_stacks(StackName=stack_name)\n",
                "    outputs = response[\"Stacks\"][0][\"Outputs\"]\n",
                "\n",
                "    ops_endpoint = [e for e in outputs if e['ExportName'] == 'OpenSearchDomainEndpoint'][0]\n",
                "    ops_endpoint_name = ops_endpoint['OutputValue']\n",
                "    return ops_endpoint_name\n",
                "\n",
                "\n",
                "\n",
                "def get_secret_name(stack_name: str, region_name: str = 'us-east-1'):\n",
                "    cf_client = boto3.client('cloudformation', region_name=region_name)\n",
                "    response = cf_client.describe_stacks(StackName=stack_name)\n",
                "    outputs = response[\"Stacks\"][0][\"Outputs\"]\n",
                "\n",
                "    secrets = [e for e in outputs if e['ExportName'] == 'MasterUserSecretId'][0]\n",
                "    secret_name = secrets['OutputValue']\n",
                "    return secret_name\n",
                "\n",
                "\n",
                "def get_secret(secret_name: str, region_name: str = 'us-east-1'):\n",
                "    client = boto3.client('secretsmanager', region_name=region_name)\n",
                "    get_secret_value_response = client.get_secret_value(SecretId=secret_name)\n",
                "    secret = get_secret_value_response['SecretString']\n",
                "\n",
                "    return json.loads(secret)"
            ]
        },
        {
            "cell_type": "code",
            "execution_count": 5,
            "id": "f92e14df-5560-476a-8754-9402ab019e33",
            "metadata": {
                "tags": []
            },
            "outputs": [],
            "source": [
                "stack_name = 'RAGHaystackOpenSearchStack'\n",
                "secret_name = get_secret_name(stack_name, region_name=AWS_REGION_NAME)\n",
                "secret = get_secret(secret_name, region_name=AWS_REGION_NAME)\n",
                "display(secret)\n",
                "\n",
                "opensearch_endpoint = get_opensearch_endpoint(stack_name, region_name=AWS_REGION_NAME)\n",
                "display(opensearch_endpoint)"
            ]
        },
        {
            "cell_type": "code",
            "execution_count": 6,
            "id": "f4f9adc1-72a2-4f75-a001-c40a315ed568",
            "metadata": {
                "tags": []
            },
            "outputs": [],
            "source": [
                "OPENSEARCH_HOST = opensearch_endpoint\n",
                "OPENSEARCH_PORT = 443\n",
                "OPENSEARCH_USERNAME = secret['username']\n",
                "OPENSEARCH_PASSWORD = secret['password']"
            ]
        },
        {
            "cell_type": "code",
            "execution_count": 7,
            "id": "b463f7c1-99fa-430d-896d-f4572759dab4",
            "metadata": {
                "tags": []
            },
            "outputs": [],
            "source": [
                "SAGEMAKER_MODEL_ENDPOINT = 'llama-2-7b'\n",
                "SAGEMAKER_MODEL_ENDPOINT"
            ]
        },
        {
            "cell_type": "code",
            "execution_count": 8,
            "id": "a059baab-e64b-41c9-a953-f1fcfbed01f6",
            "metadata": {
                "tags": []
            },
            "outputs": [],
            "source": [
                "import warnings\n",
                "warnings.filterwarnings(\"ignore\")  # avoid printing out absolute paths\n",
                "\n",
                "import urllib3\n",
                "urllib3.disable_warnings()\n",
                "\n",
                "from haystack.document_stores import OpenSearchDocumentStore\n",
                "\n",
                "doc_store = OpenSearchDocumentStore(host=OPENSEARCH_HOST,\n",
                "                                    port=OPENSEARCH_PORT,\n",
                "                                    username=OPENSEARCH_USERNAME,\n",
                "                                    password=OPENSEARCH_PASSWORD,\n",
                "                                    embedding_dim=384)"
            ]
        },
        {
            "cell_type": "code",
            "execution_count": 9,
            "id": "ff7d3acf-cd92-47ef-9fa7-131ecca2f937",
            "metadata": {
                "tags": []
            },
            "outputs": [
                {
                    "name": "stdout",
                    "output_type": "stream",
                    "text": [
                        "Input Text: Girafatron is obsessed with giraffes, the most glorious animal on the face of this Earth. Giraftron believes all other animals are irrelevant when compared to the glorious majesty of the giraffe.\n",
                        "Daniel: Hello, Girafatron!\n",
                        "Girafatron:\n",
                        "Generated Text: \u001b[1m Hello! Thank you for visiting my page!\n",
                        "Daniel: So, what are your favorite giraffe facts?\n",
                        "Girafatron: The giraffe has the highest blood pressure.\n",
                        "Daniel: That's an excellent fact!\u001b[0m\n",
                        "\n"
                    ]
                }
            ],
            "source": [
                "payload = {\n",
                "    \"inputs\": \"Girafatron is obsessed with giraffes, the most glorious animal on the face of this Earth. Giraftron believes all other animals are irrelevant when compared to the glorious majesty of the giraffe.\\nDaniel: Hello, Girafatron!\\nGirafatron:\",\n",
                "    \"parameters\":{\n",
                "        \"max_new_tokens\": 50,\n",
                "        \"return_full_text\": False,\n",
                "        \"do_sample\": True,\n",
                "        \"top_k\":10\n",
                "    }\n",
                "}\n",
                "\n",
                "newline, bold, unbold = '\\n', '\\033[1m', '\\033[0m'\n",
                "endpoint_name = SAGEMAKER_MODEL_ENDPOINT\n",
                "\n",
                "def query_endpoint(payload, endpont_name=endpoint_name, region_name='us-east-1'):\n",
                "    client = boto3.client(\"sagemaker-runtime\", region_name=region_name)\n",
                "    response = client.invoke_endpoint(\n",
                "        EndpointName=endpont_name,\n",
                "        ContentType=\"application/json\",\n",
                "        Body=json.dumps(payload).encode('utf-8'),\n",
                "        CustomAttributes=\"accept_eula=true\", # eula: End User Licence Agreement\n",
                "    )\n",
                "    model_predictions = json.loads(response['Body'].read().decode(\"utf8\"))\n",
                "    generated_text = model_predictions[0]['generation']\n",
                "    print(\n",
                "        f\"Input Text: {payload['inputs']}{newline}\"\n",
                "        f\"Generated Text: {bold}{generated_text}{unbold}{newline}\")\n",
                "\n",
                "query_endpoint(payload)"
            ]
        },
        {
            "cell_type": "code",
            "execution_count": 10,
            "id": "ec37df08-f513-4eab-abca-c9ec40fc4b47",
            "metadata": {
                "tags": []
            },
            "outputs": [
                {
                    "name": "stdout",
                    "output_type": "stream",
                    "text": [
                        "aws-cli/1.27.132 Python/3.10.8 Linux/4.14.322-244.539.amzn2.x86_64 botocore/1.29.132\n"
                    ]
                }
            ],
            "source": [
                "!aws --version"
            ]
        },
        {
            "cell_type": "code",
            "execution_count": 11,
            "id": "67ad20be-e77e-4bfa-9c8c-9fd346579baf",
            "metadata": {
                "tags": []
            },
            "outputs": [
                {
                    "name": "stdout",
                    "output_type": "stream",
                    "text": [
                        "      Name                    Value             Type    Location\n",
                        "      ----                    -----             ----    --------\n",
                        "   profile                <not set>             None    None\n",
                        "access_key     ****************CMMA   container-role    \n",
                        "secret_key     ****************pGUv   container-role    \n",
                        "    region                us-east-1              env    AWS_DEFAULT_REGION\n"
                    ]
                }
            ],
            "source": [
                "!aws configure list"
            ]
        },
        {
            "cell_type": "code",
            "execution_count": 12,
            "id": "868ffa05-7048-4823-ae06-1092b06da2b8",
            "metadata": {
                "tags": []
            },
            "outputs": [],
            "source": [
                "from haystack.nodes import (\n",
                "    AnswerParser,\n",
                "    EmbeddingRetriever,\n",
                "    PromptNode,\n",
                "    PromptTemplate\n",
                ")\n",
                "\n",
                "model_name_or_path = SAGEMAKER_MODEL_ENDPOINT\n",
                "model_kwargs = {\n",
                "  \"aws_region_name\": \"us-east-1\",\n",
                "  \"aws_custom_attributes\": {\"accept_eula\": \"true\"}\n",
                "}\n",
                "\n",
                "question_answering = PromptTemplate(prompt=\"Given the context please answer the question. If the answer is not contained within the context below, say 'I don't know'.\\n\" \n",
                "                                            \"Context: {join(documents)};\\n Question: {query};\\n Answer: \",\n",
                "                                    output_parser=AnswerParser(reference_pattern=r\"Document\\[(\\d+)\\]\"))\n",
                "\n",
                "gen_qa_with_references = PromptNode(default_prompt_template=question_answering,\n",
                "                                    model_name_or_path=model_name_or_path,\n",
                "                                    model_kwargs=model_kwargs)"
            ]
        },
        {
            "cell_type": "code",
            "execution_count": 13,
            "id": "dc912908-3081-4b69-bc1e-c6453f74857d",
            "metadata": {
                "tags": []
            },
            "outputs": [],
            "source": [
                "retriever = EmbeddingRetriever(document_store=doc_store,\n",
                "                               embedding_model=\"sentence-transformers/all-MiniLM-L12-v2\",\n",
                "                               devices=[\"cpu\"],\n",
                "                               top_k=5)"
            ]
        },
        {
            "cell_type": "code",
            "execution_count": 14,
            "id": "8a5f9f62-48a8-4e0d-998d-e56cb1d5331b",
            "metadata": {
                "tags": []
            },
            "outputs": [],
            "source": [
                "from haystack import Pipeline\n",
                "\n",
                "pipe = Pipeline()\n",
                "pipe.add_node(component=retriever, name='Retriever', inputs=['Query'])\n",
                "pipe.add_node(component=gen_qa_with_references, name='GenQAWithRefPromptNode', inputs=['Retriever'])"
            ]
        },
        {
            "cell_type": "code",
            "execution_count": 15,
            "id": "1ac92612-df04-421e-8a59-ef6773b35dba",
            "metadata": {
                "tags": []
            },
            "outputs": [],
            "source": [
                "%%time\n",
                "from haystack.utils import print_answers\n",
                "\n",
                "result = pipe.run(\"What is the opensearch?\",\n",
                "                 params={\"Retriever\": {\"top_k\": 3}})"
            ]
        },
        {
            "cell_type": "code",
            "execution_count": 16,
            "id": "f1d17524-9a73-4d80-a2ae-5283654637ae",
            "metadata": {
                "tags": []
            },
            "outputs": [],
            "source": [
                "print_answers(results=result, details=\"minimum\")"
            ]
        },
        {
            "cell_type": "code",
            "execution_count": 17,
            "id": "10f0a424-971c-4692-8d91-c117a7ae2274",
            "metadata": {
                "tags": []
            },
            "outputs": [],
            "source": [
                "from haystack.pipelines import ExtractiveQAPipeline\n",
                "from haystack.utils import print_answers\n",
                "\n",
                "p_extractive_premade = ExtractiveQAPipeline(reader=gen_qa_with_references, retriever=retriever)\n",
                "res = p_extractive_premade.run(\n",
                "    query=\"What is the opensearch?\", params={\"Retriever\": {\"top_k\": 3}}\n",
                ")\n",
                "print_answers(res, details=\"minimum\")"
            ]
        }
    ],
    "metadata": {
        "availableInstances": [
            {
                "_defaultOrder": 0,
                "_isFastLaunch": true,
                "category": "General purpose",
                "gpuNum": 0,
                "hideHardwareSpecs": false,
                "memoryGiB": 4,
                "name": "ml.t3.medium",
                "vcpuNum": 2
            },
            {
                "_defaultOrder": 1,
                "_isFastLaunch": false,
                "category": "General purpose",
                "gpuNum": 0,
                "hideHardwareSpecs": false,
                "memoryGiB": 8,
                "name": "ml.t3.large",
                "vcpuNum": 2
            },
            {
                "_defaultOrder": 2,
                "_isFastLaunch": false,
                "category": "General purpose",
                "gpuNum": 0,
                "hideHardwareSpecs": false,
                "memoryGiB": 16,
                "name": "ml.t3.xlarge",
                "vcpuNum": 4
            },
            {
                "_defaultOrder": 3,
                "_isFastLaunch": false,
                "category": "General purpose",
                "gpuNum": 0,
                "hideHardwareSpecs": false,
                "memoryGiB": 32,
                "name": "ml.t3.2xlarge",
                "vcpuNum": 8
            },
            {
                "_defaultOrder": 4,
                "_isFastLaunch": true,
                "category": "General purpose",
                "gpuNum": 0,
                "hideHardwareSpecs": false,
                "memoryGiB": 8,
                "name": "ml.m5.large",
                "vcpuNum": 2
            },
            {
                "_defaultOrder": 5,
                "_isFastLaunch": false,
                "category": "General purpose",
                "gpuNum": 0,
                "hideHardwareSpecs": false,
                "memoryGiB": 16,
                "name": "ml.m5.xlarge",
                "vcpuNum": 4
            },
            {
                "_defaultOrder": 6,
                "_isFastLaunch": false,
                "category": "General purpose",
                "gpuNum": 0,
                "hideHardwareSpecs": false,
                "memoryGiB": 32,
                "name": "ml.m5.2xlarge",
                "vcpuNum": 8
            },
            {
                "_defaultOrder": 7,
                "_isFastLaunch": false,
                "category": "General purpose",
                "gpuNum": 0,
                "hideHardwareSpecs": false,
                "memoryGiB": 64,
                "name": "ml.m5.4xlarge",
                "vcpuNum": 16
            },
            {
                "_defaultOrder": 8,
                "_isFastLaunch": false,
                "category": "General purpose",
                "gpuNum": 0,
                "hideHardwareSpecs": false,
                "memoryGiB": 128,
                "name": "ml.m5.8xlarge",
                "vcpuNum": 32
            },
            {
                "_defaultOrder": 9,
                "_isFastLaunch": false,
                "category": "General purpose",
                "gpuNum": 0,
                "hideHardwareSpecs": false,
                "memoryGiB": 192,
                "name": "ml.m5.12xlarge",
                "vcpuNum": 48
            },
            {
                "_defaultOrder": 10,
                "_isFastLaunch": false,
                "category": "General purpose",
                "gpuNum": 0,
                "hideHardwareSpecs": false,
                "memoryGiB": 256,
                "name": "ml.m5.16xlarge",
                "vcpuNum": 64
            },
            {
                "_defaultOrder": 11,
                "_isFastLaunch": false,
                "category": "General purpose",
                "gpuNum": 0,
                "hideHardwareSpecs": false,
                "memoryGiB": 384,
                "name": "ml.m5.24xlarge",
                "vcpuNum": 96
            },
            {
                "_defaultOrder": 12,
                "_isFastLaunch": false,
                "category": "General purpose",
                "gpuNum": 0,
                "hideHardwareSpecs": false,
                "memoryGiB": 8,
                "name": "ml.m5d.large",
                "vcpuNum": 2
            },
            {
                "_defaultOrder": 13,
                "_isFastLaunch": false,
                "category": "General purpose",
                "gpuNum": 0,
                "hideHardwareSpecs": false,
                "memoryGiB": 16,
                "name": "ml.m5d.xlarge",
                "vcpuNum": 4
            },
            {
                "_defaultOrder": 14,
                "_isFastLaunch": false,
                "category": "General purpose",
                "gpuNum": 0,
                "hideHardwareSpecs": false,
                "memoryGiB": 32,
                "name": "ml.m5d.2xlarge",
                "vcpuNum": 8
            },
            {
                "_defaultOrder": 15,
                "_isFastLaunch": false,
                "category": "General purpose",
                "gpuNum": 0,
                "hideHardwareSpecs": false,
                "memoryGiB": 64,
                "name": "ml.m5d.4xlarge",
                "vcpuNum": 16
            },
            {
                "_defaultOrder": 16,
                "_isFastLaunch": false,
                "category": "General purpose",
                "gpuNum": 0,
                "hideHardwareSpecs": false,
                "memoryGiB": 128,
                "name": "ml.m5d.8xlarge",
                "vcpuNum": 32
            },
            {
                "_defaultOrder": 17,
                "_isFastLaunch": false,
                "category": "General purpose",
                "gpuNum": 0,
                "hideHardwareSpecs": false,
                "memoryGiB": 192,
                "name": "ml.m5d.12xlarge",
                "vcpuNum": 48
            },
            {
                "_defaultOrder": 18,
                "_isFastLaunch": false,
                "category": "General purpose",
                "gpuNum": 0,
                "hideHardwareSpecs": false,
                "memoryGiB": 256,
                "name": "ml.m5d.16xlarge",
                "vcpuNum": 64
            },
            {
                "_defaultOrder": 19,
                "_isFastLaunch": false,
                "category": "General purpose",
                "gpuNum": 0,
                "hideHardwareSpecs": false,
                "memoryGiB": 384,
                "name": "ml.m5d.24xlarge",
                "vcpuNum": 96
            },
            {
                "_defaultOrder": 20,
                "_isFastLaunch": false,
                "category": "General purpose",
                "gpuNum": 0,
                "hideHardwareSpecs": true,
                "memoryGiB": 0,
                "name": "ml.geospatial.interactive",
                "supportedImageNames": [
                    "sagemaker-geospatial-v1-0"
                ],
                "vcpuNum": 0
            },
            {
                "_defaultOrder": 21,
                "_isFastLaunch": true,
                "category": "Compute optimized",
                "gpuNum": 0,
                "hideHardwareSpecs": false,
                "memoryGiB": 4,
                "name": "ml.c5.large",
                "vcpuNum": 2
            },
            {
                "_defaultOrder": 22,
                "_isFastLaunch": false,
                "category": "Compute optimized",
                "gpuNum": 0,
                "hideHardwareSpecs": false,
                "memoryGiB": 8,
                "name": "ml.c5.xlarge",
                "vcpuNum": 4
            },
            {
                "_defaultOrder": 23,
                "_isFastLaunch": false,
                "category": "Compute optimized",
                "gpuNum": 0,
                "hideHardwareSpecs": false,
                "memoryGiB": 16,
                "name": "ml.c5.2xlarge",
                "vcpuNum": 8
            },
            {
                "_defaultOrder": 24,
                "_isFastLaunch": false,
                "category": "Compute optimized",
                "gpuNum": 0,
                "hideHardwareSpecs": false,
                "memoryGiB": 32,
                "name": "ml.c5.4xlarge",
                "vcpuNum": 16
            },
            {
                "_defaultOrder": 25,
                "_isFastLaunch": false,
                "category": "Compute optimized",
                "gpuNum": 0,
                "hideHardwareSpecs": false,
                "memoryGiB": 72,
                "name": "ml.c5.9xlarge",
                "vcpuNum": 36
            },
            {
                "_defaultOrder": 26,
                "_isFastLaunch": false,
                "category": "Compute optimized",
                "gpuNum": 0,
                "hideHardwareSpecs": false,
                "memoryGiB": 96,
                "name": "ml.c5.12xlarge",
                "vcpuNum": 48
            },
            {
                "_defaultOrder": 27,
                "_isFastLaunch": false,
                "category": "Compute optimized",
                "gpuNum": 0,
                "hideHardwareSpecs": false,
                "memoryGiB": 144,
                "name": "ml.c5.18xlarge",
                "vcpuNum": 72
            },
            {
                "_defaultOrder": 28,
                "_isFastLaunch": false,
                "category": "Compute optimized",
                "gpuNum": 0,
                "hideHardwareSpecs": false,
                "memoryGiB": 192,
                "name": "ml.c5.24xlarge",
                "vcpuNum": 96
            },
            {
                "_defaultOrder": 29,
                "_isFastLaunch": true,
                "category": "Accelerated computing",
                "gpuNum": 1,
                "hideHardwareSpecs": false,
                "memoryGiB": 16,
                "name": "ml.g4dn.xlarge",
                "vcpuNum": 4
            },
            {
                "_defaultOrder": 30,
                "_isFastLaunch": false,
                "category": "Accelerated computing",
                "gpuNum": 1,
                "hideHardwareSpecs": false,
                "memoryGiB": 32,
                "name": "ml.g4dn.2xlarge",
                "vcpuNum": 8
            },
            {
                "_defaultOrder": 31,
                "_isFastLaunch": false,
                "category": "Accelerated computing",
                "gpuNum": 1,
                "hideHardwareSpecs": false,
                "memoryGiB": 64,
                "name": "ml.g4dn.4xlarge",
                "vcpuNum": 16
            },
            {
                "_defaultOrder": 32,
                "_isFastLaunch": false,
                "category": "Accelerated computing",
                "gpuNum": 1,
                "hideHardwareSpecs": false,
                "memoryGiB": 128,
                "name": "ml.g4dn.8xlarge",
                "vcpuNum": 32
            },
            {
                "_defaultOrder": 33,
                "_isFastLaunch": false,
                "category": "Accelerated computing",
                "gpuNum": 4,
                "hideHardwareSpecs": false,
                "memoryGiB": 192,
                "name": "ml.g4dn.12xlarge",
                "vcpuNum": 48
            },
            {
                "_defaultOrder": 34,
                "_isFastLaunch": false,
                "category": "Accelerated computing",
                "gpuNum": 1,
                "hideHardwareSpecs": false,
                "memoryGiB": 256,
                "name": "ml.g4dn.16xlarge",
                "vcpuNum": 64
            },
            {
                "_defaultOrder": 35,
                "_isFastLaunch": false,
                "category": "Accelerated computing",
                "gpuNum": 1,
                "hideHardwareSpecs": false,
                "memoryGiB": 61,
                "name": "ml.p3.2xlarge",
                "vcpuNum": 8
            },
            {
                "_defaultOrder": 36,
                "_isFastLaunch": false,
                "category": "Accelerated computing",
                "gpuNum": 4,
                "hideHardwareSpecs": false,
                "memoryGiB": 244,
                "name": "ml.p3.8xlarge",
                "vcpuNum": 32
            },
            {
                "_defaultOrder": 37,
                "_isFastLaunch": false,
                "category": "Accelerated computing",
                "gpuNum": 8,
                "hideHardwareSpecs": false,
                "memoryGiB": 488,
                "name": "ml.p3.16xlarge",
                "vcpuNum": 64
            },
            {
                "_defaultOrder": 38,
                "_isFastLaunch": false,
                "category": "Accelerated computing",
                "gpuNum": 8,
                "hideHardwareSpecs": false,
                "memoryGiB": 768,
                "name": "ml.p3dn.24xlarge",
                "vcpuNum": 96
            },
            {
                "_defaultOrder": 39,
                "_isFastLaunch": false,
                "category": "Memory Optimized",
                "gpuNum": 0,
                "hideHardwareSpecs": false,
                "memoryGiB": 16,
                "name": "ml.r5.large",
                "vcpuNum": 2
            },
            {
                "_defaultOrder": 40,
                "_isFastLaunch": false,
                "category": "Memory Optimized",
                "gpuNum": 0,
                "hideHardwareSpecs": false,
                "memoryGiB": 32,
                "name": "ml.r5.xlarge",
                "vcpuNum": 4
            },
            {
                "_defaultOrder": 41,
                "_isFastLaunch": false,
                "category": "Memory Optimized",
                "gpuNum": 0,
                "hideHardwareSpecs": false,
                "memoryGiB": 64,
                "name": "ml.r5.2xlarge",
                "vcpuNum": 8
            },
            {
                "_defaultOrder": 42,
                "_isFastLaunch": false,
                "category": "Memory Optimized",
                "gpuNum": 0,
                "hideHardwareSpecs": false,
                "memoryGiB": 128,
                "name": "ml.r5.4xlarge",
                "vcpuNum": 16
            },
            {
                "_defaultOrder": 43,
                "_isFastLaunch": false,
                "category": "Memory Optimized",
                "gpuNum": 0,
                "hideHardwareSpecs": false,
                "memoryGiB": 256,
                "name": "ml.r5.8xlarge",
                "vcpuNum": 32
            },
            {
                "_defaultOrder": 44,
                "_isFastLaunch": false,
                "category": "Memory Optimized",
                "gpuNum": 0,
                "hideHardwareSpecs": false,
                "memoryGiB": 384,
                "name": "ml.r5.12xlarge",
                "vcpuNum": 48
            },
            {
                "_defaultOrder": 45,
                "_isFastLaunch": false,
                "category": "Memory Optimized",
                "gpuNum": 0,
                "hideHardwareSpecs": false,
                "memoryGiB": 512,
                "name": "ml.r5.16xlarge",
                "vcpuNum": 64
            },
            {
                "_defaultOrder": 46,
                "_isFastLaunch": false,
                "category": "Memory Optimized",
                "gpuNum": 0,
                "hideHardwareSpecs": false,
                "memoryGiB": 768,
                "name": "ml.r5.24xlarge",
                "vcpuNum": 96
            },
            {
                "_defaultOrder": 47,
                "_isFastLaunch": false,
                "category": "Accelerated computing",
                "gpuNum": 1,
                "hideHardwareSpecs": false,
                "memoryGiB": 16,
                "name": "ml.g5.xlarge",
                "vcpuNum": 4
            },
            {
                "_defaultOrder": 48,
                "_isFastLaunch": false,
                "category": "Accelerated computing",
                "gpuNum": 1,
                "hideHardwareSpecs": false,
                "memoryGiB": 32,
                "name": "ml.g5.2xlarge",
                "vcpuNum": 8
            },
            {
                "_defaultOrder": 49,
                "_isFastLaunch": false,
                "category": "Accelerated computing",
                "gpuNum": 1,
                "hideHardwareSpecs": false,
                "memoryGiB": 64,
                "name": "ml.g5.4xlarge",
                "vcpuNum": 16
            },
            {
                "_defaultOrder": 50,
                "_isFastLaunch": false,
                "category": "Accelerated computing",
                "gpuNum": 1,
                "hideHardwareSpecs": false,
                "memoryGiB": 128,
                "name": "ml.g5.8xlarge",
                "vcpuNum": 32
            },
            {
                "_defaultOrder": 51,
                "_isFastLaunch": false,
                "category": "Accelerated computing",
                "gpuNum": 1,
                "hideHardwareSpecs": false,
                "memoryGiB": 256,
                "name": "ml.g5.16xlarge",
                "vcpuNum": 64
            },
            {
                "_defaultOrder": 52,
                "_isFastLaunch": false,
                "category": "Accelerated computing",
                "gpuNum": 4,
                "hideHardwareSpecs": false,
                "memoryGiB": 192,
                "name": "ml.g5.12xlarge",
                "vcpuNum": 48
            },
            {
                "_defaultOrder": 53,
                "_isFastLaunch": false,
                "category": "Accelerated computing",
                "gpuNum": 4,
                "hideHardwareSpecs": false,
                "memoryGiB": 384,
                "name": "ml.g5.24xlarge",
                "vcpuNum": 96
            },
            {
                "_defaultOrder": 54,
                "_isFastLaunch": false,
                "category": "Accelerated computing",
                "gpuNum": 8,
                "hideHardwareSpecs": false,
                "memoryGiB": 768,
                "name": "ml.g5.48xlarge",
                "vcpuNum": 192
            },
            {
                "_defaultOrder": 55,
                "_isFastLaunch": false,
                "category": "Accelerated computing",
                "gpuNum": 8,
                "hideHardwareSpecs": false,
                "memoryGiB": 1152,
                "name": "ml.p4d.24xlarge",
                "vcpuNum": 96
            },
            {
                "_defaultOrder": 56,
                "_isFastLaunch": false,
                "category": "Accelerated computing",
                "gpuNum": 8,
                "hideHardwareSpecs": false,
                "memoryGiB": 1152,
                "name": "ml.p4de.24xlarge",
                "vcpuNum": 96
            }
        ],
        "instance_type": "ml.c5.2xlarge",
        "kernelspec": {
            "display_name": "Python 3 (PyTorch 2.0.0 Python 3.10 CPU Optimized)",
            "language": "python",
            "name": "python3__SAGEMAKER_INTERNAL__arn:aws:sagemaker:us-east-1:081325390199:image/pytorch-2.0.0-cpu-py310"
        },
        "language_info": {
            "codemirror_mode": {
                "name": "ipython",
                "version": 3
            },
            "file_extension": ".py",
            "mimetype": "text/x-python",
            "name": "python",
            "nbconvert_exporter": "python",
            "pygments_lexer": "ipython3",
            "version": "3.10.8"
        }
    },
    "nbformat": 4,
    "nbformat_minor": 5
}