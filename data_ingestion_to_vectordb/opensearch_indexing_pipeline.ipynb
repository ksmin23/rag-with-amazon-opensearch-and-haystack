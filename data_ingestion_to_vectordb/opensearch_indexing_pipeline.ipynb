{
    "cells": [
        {
            "cell_type": "markdown",
            "id": "7d50b8d1",
            "metadata": {},
            "source": [
                "# Indexing Pipeline to write Documents to Amazon OpenSearch\n",
                "\n",
                "**_Use of Amazon OpenSearch as a vector database for storing embeddings_**\n",
                "\n",
                "This notebook works well with the `PyTorch 2.0.0 Python 3.10 CPU Optimized` kernel on a SageMaker Studio `ml.c5.2xlarge` instance.\n",
                "\n",
                "Here is a list of packages that are used in this notebook.\n",
                "\n",
                "```\n",
                "!pip freeze | grep -E \"sagemaker|boto3|haystack|opensearch|transformers|torch\"\n",
                "------------------------------------------\n",
                "boto3==1.26.132\n",
                "farm-haystack==1.21.0\n",
                "opensearch-py==2.3.1\n",
                "sagemaker==2.188.0\n",
                "sagemaker-experiments==0.1.43\n",
                "sagemaker-pytorch-training==2.8.0\n",
                "sagemaker-training==4.5.0\n",
                "sentence-transformers==2.2.2\n",
                "smdebug @ file:///tmp/sagemaker-debugger\n",
                "torch==2.0.0\n",
                "torchaudio==2.0.1\n",
                "torchdata @ file:///opt/conda/conda-bld/torchdata_1679615656247/work\n",
                "torchtext==0.15.1\n",
                "torchvision==0.15.1\n",
                "transformers==4.32.1\n",
                "```"
            ]
        },
        {
            "cell_type": "code",
            "execution_count": null,
            "id": "97d35b05-6897-4e45-9174-869e200f4557",
            "metadata": {
                "collapsed": true,
                "jupyter": {
                    "outputs_hidden": true
                },
                "tags": []
            },
            "outputs": [],
            "source": [
                "!pip install -U -r requirements.txt\n",
                "!pip install -U sagemaker"
            ]
        },
        {
            "cell_type": "code",
            "execution_count": 2,
            "id": "acd08166-0cfa-4e93-8d4b-d329d9e0ef55",
            "metadata": {
                "tags": []
            },
            "outputs": [
                {
                    "name": "stdout",
                    "output_type": "stream",
                    "text": [
                        "boto3==1.26.132\n",
                        "farm-haystack==1.21.0\n",
                        "opensearch-py==2.3.1\n",
                        "sagemaker==2.188.0\n",
                        "sagemaker-experiments==0.1.43\n",
                        "sagemaker-pytorch-training==2.8.0\n",
                        "sagemaker-training==4.5.0\n",
                        "sentence-transformers==2.2.2\n",
                        "smdebug @ file:///tmp/sagemaker-debugger\n",
                        "torch==2.0.0\n",
                        "torchaudio==2.0.1\n",
                        "torchdata @ file:///opt/conda/conda-bld/torchdata_1679615656247/work\n",
                        "torchtext==0.15.1\n",
                        "torchvision==0.15.1\n",
                        "transformers==4.32.1\n"
                    ]
                }
            ],
            "source": [
                "!pip freeze | grep -E \"sagemaker|boto3|haystack|opensearch|transformers|torch\""
            ]
        },
        {
            "cell_type": "code",
            "execution_count": 3,
            "id": "d01fb6c7-8f7a-4fc4-a6a6-a23f8dcac957",
            "metadata": {
                "tags": []
            },
            "outputs": [],
            "source": [
                "import boto3\n",
                "import json\n",
                "\n",
                "\n",
                "def get_opensearch_endpoint(stack_name: str, region_name: str = 'us-east-1'):\n",
                "    cf_client = boto3.client('cloudformation', region_name=region_name)\n",
                "    response = cf_client.describe_stacks(StackName=stack_name)\n",
                "    outputs = response[\"Stacks\"][0][\"Outputs\"]\n",
                "\n",
                "    ops_endpoint = [e for e in outputs if e['ExportName'] == 'OpenSearchDomainEndpoint'][0]\n",
                "    ops_endpoint_name = ops_endpoint['OutputValue']\n",
                "    return ops_endpoint_name\n",
                "\n",
                "\n",
                "\n",
                "def get_secret_name(stack_name: str, region_name: str = 'us-east-1'):\n",
                "    cf_client = boto3.client('cloudformation', region_name=region_name)\n",
                "    response = cf_client.describe_stacks(StackName=stack_name)\n",
                "    outputs = response[\"Stacks\"][0][\"Outputs\"]\n",
                "\n",
                "    secrets = [e for e in outputs if e['ExportName'] == 'MasterUserSecretId'][0]\n",
                "    secret_name = secrets['OutputValue']\n",
                "    return secret_name\n",
                "\n",
                "\n",
                "def get_secret(secret_name: str, region_name: str = 'us-east-1'):\n",
                "    client = boto3.client('secretsmanager', region_name=region_name)\n",
                "    get_secret_value_response = client.get_secret_value(SecretId=secret_name)\n",
                "    secret = get_secret_value_response['SecretString']\n",
                "\n",
                "    return json.loads(secret)"
            ]
        },
        {
            "cell_type": "code",
            "execution_count": 4,
            "id": "ecaa83d3-9c80-4c0b-bb3b-9bcd07727663",
            "metadata": {
                "tags": []
            },
            "outputs": [],
            "source": [
                "AWS_REGION_NAME = boto3.Session().region_name\n",
                "\n",
                "AWS_REGION_NAME"
            ]
        },
        {
            "cell_type": "code",
            "execution_count": 5,
            "id": "ca0c076a-5264-4000-8763-47c013443197",
            "metadata": {
                "tags": []
            },
            "outputs": [],
            "source": [
                "stack_name = 'RAGHaystackOpenSearchStack'\n",
                "secret_name = get_secret_name(stack_name, region_name=AWS_REGION_NAME)\n",
                "secret = get_secret(secret_name, region_name=AWS_REGION_NAME)\n",
                "display(secret)\n",
                "\n",
                "opensearch_endpoint = get_opensearch_endpoint(stack_name, region_name=AWS_REGION_NAME)\n",
                "display(opensearch_endpoint)"
            ]
        },
        {
            "cell_type": "code",
            "execution_count": 6,
            "id": "04014ec0-93aa-4f23-89df-6fde70255089",
            "metadata": {
                "tags": []
            },
            "outputs": [],
            "source": [
                "OPENSEARCH_HOST = opensearch_endpoint\n",
                "OPENSEARCH_PORT = 443\n",
                "OPENSEARCH_USERNAME = secret['username']\n",
                "OPENSEARCH_PASSWORD = secret['password']"
            ]
        },
        {
            "cell_type": "code",
            "execution_count": 7,
            "id": "18d734f6-dff2-4294-8ffc-3640b10a442c",
            "metadata": {
                "tags": []
            },
            "outputs": [],
            "source": [
                "import warnings\n",
                "\n",
                "warnings.filterwarnings(\"ignore\")  # avoid printing out absolute paths"
            ]
        },
        {
            "cell_type": "code",
            "execution_count": 8,
            "id": "73fed58e-6858-4629-82d9-ce982cec4d83",
            "metadata": {
                "tags": []
            },
            "outputs": [],
            "source": [
                "from haystack.document_stores import OpenSearchDocumentStore"
            ]
        },
        {
            "cell_type": "code",
            "execution_count": 9,
            "id": "6bf7fcd3-09c7-429e-bc69-9b5728ec7163",
            "metadata": {
                "tags": []
            },
            "outputs": [],
            "source": [
                "doc_store = OpenSearchDocumentStore(host=OPENSEARCH_HOST,\n",
                "                                    port=OPENSEARCH_PORT,\n",
                "                                    username=OPENSEARCH_USERNAME,\n",
                "                                    password=OPENSEARCH_PASSWORD,\n",
                "                                    embedding_dim=384)"
            ]
        },
        {
            "cell_type": "code",
            "execution_count": 10,
            "id": "7221d98d-ba11-47b3-a3af-f32738e5e041",
            "metadata": {
                "tags": []
            },
            "outputs": [],
            "source": [
                "from haystack.nodes import JsonConverter\n",
                "\n",
                "converter = JsonConverter()"
            ]
        },
        {
            "cell_type": "code",
            "execution_count": 11,
            "id": "2697e5dc-f1b0-4410-bc51-9e0408ff83d0",
            "metadata": {
                "tags": []
            },
            "outputs": [],
            "source": [
                "from haystack.nodes import PreProcessor\n",
                "\n",
                "preprocessor = PreProcessor(\n",
                "    clean_empty_lines=True,\n",
                "    split_by='word',\n",
                "    split_respect_sentence_boundary=True,\n",
                "    split_length=80,\n",
                "    split_overlap=20\n",
                ")"
            ]
        },
        {
            "cell_type": "code",
            "execution_count": 12,
            "id": "37e5d83b-5b4a-4f75-b701-fdd97dc0320a",
            "metadata": {
                "tags": []
            },
            "outputs": [],
            "source": [
                "from haystack.nodes import EmbeddingRetriever\n",
                "\n",
                "retriever = EmbeddingRetriever(\n",
                "    document_store=doc_store,\n",
                "    embedding_model=\"sentence-transformers/all-MiniLM-L12-v2\",\n",
                "    devices=[\"cpu\"],\n",
                "    top_k=5\n",
                ")"
            ]
        },
        {
            "cell_type": "code",
            "execution_count": 13,
            "id": "e0bbdc26-1cdc-4247-a53e-482fc4508642",
            "metadata": {
                "tags": []
            },
            "outputs": [],
            "source": [
                "from haystack import Pipeline\n",
                "\n",
                "indexing_pipeline = Pipeline()\n",
                "indexing_pipeline.add_node(component=converter, name=\"Converter\", inputs=[\"File\"])\n",
                "indexing_pipeline.add_node(component=preprocessor, name=\"PreProcessor\", inputs=[\"Converter\"])\n",
                "indexing_pipeline.add_node(component=retriever, name=\"Retriever\", inputs=[\"PreProcessor\"])\n",
                "indexing_pipeline.add_node(component=doc_store, name=\"DocumentStore\", inputs=[\"Retriever\"])"
            ]
        },
        {
            "cell_type": "code",
            "execution_count": 14,
            "id": "5fd902cc-bf45-4799-96ff-340b8e347295",
            "metadata": {
                "tags": []
            },
            "outputs": [],
            "source": [
                "%%sh\n",
                "\n",
                "mkdir -p data\n",
                "cd ./data\n",
                "wget https://raw.githubusercontent.com/deepset-ai/haystack-sagemaker/main/data/opensearch-documentation-2.7.json\n",
                "wget https://raw.githubusercontent.com/deepset-ai/haystack-sagemaker/main/data/opensearch-website.json"
            ]
        },
        {
            "cell_type": "code",
            "execution_count": 15,
            "id": "0e7783fd-f675-4c14-86c0-20baf18dd5aa",
            "metadata": {
                "tags": []
            },
            "outputs": [],
            "source": [
                "indexing_pipeline.run(file_paths=[\n",
                "    \"data/opensearch-documentation-2.7.json\",\n",
                "    \"data/opensearch-website.json\"\n",
                "])"
            ]
        }
    ],
    "metadata": {
        "availableInstances": [
            {
                "_defaultOrder": 0,
                "_isFastLaunch": true,
                "category": "General purpose",
                "gpuNum": 0,
                "hideHardwareSpecs": false,
                "memoryGiB": 4,
                "name": "ml.t3.medium",
                "vcpuNum": 2
            },
            {
                "_defaultOrder": 1,
                "_isFastLaunch": false,
                "category": "General purpose",
                "gpuNum": 0,
                "hideHardwareSpecs": false,
                "memoryGiB": 8,
                "name": "ml.t3.large",
                "vcpuNum": 2
            },
            {
                "_defaultOrder": 2,
                "_isFastLaunch": false,
                "category": "General purpose",
                "gpuNum": 0,
                "hideHardwareSpecs": false,
                "memoryGiB": 16,
                "name": "ml.t3.xlarge",
                "vcpuNum": 4
            },
            {
                "_defaultOrder": 3,
                "_isFastLaunch": false,
                "category": "General purpose",
                "gpuNum": 0,
                "hideHardwareSpecs": false,
                "memoryGiB": 32,
                "name": "ml.t3.2xlarge",
                "vcpuNum": 8
            },
            {
                "_defaultOrder": 4,
                "_isFastLaunch": true,
                "category": "General purpose",
                "gpuNum": 0,
                "hideHardwareSpecs": false,
                "memoryGiB": 8,
                "name": "ml.m5.large",
                "vcpuNum": 2
            },
            {
                "_defaultOrder": 5,
                "_isFastLaunch": false,
                "category": "General purpose",
                "gpuNum": 0,
                "hideHardwareSpecs": false,
                "memoryGiB": 16,
                "name": "ml.m5.xlarge",
                "vcpuNum": 4
            },
            {
                "_defaultOrder": 6,
                "_isFastLaunch": false,
                "category": "General purpose",
                "gpuNum": 0,
                "hideHardwareSpecs": false,
                "memoryGiB": 32,
                "name": "ml.m5.2xlarge",
                "vcpuNum": 8
            },
            {
                "_defaultOrder": 7,
                "_isFastLaunch": false,
                "category": "General purpose",
                "gpuNum": 0,
                "hideHardwareSpecs": false,
                "memoryGiB": 64,
                "name": "ml.m5.4xlarge",
                "vcpuNum": 16
            },
            {
                "_defaultOrder": 8,
                "_isFastLaunch": false,
                "category": "General purpose",
                "gpuNum": 0,
                "hideHardwareSpecs": false,
                "memoryGiB": 128,
                "name": "ml.m5.8xlarge",
                "vcpuNum": 32
            },
            {
                "_defaultOrder": 9,
                "_isFastLaunch": false,
                "category": "General purpose",
                "gpuNum": 0,
                "hideHardwareSpecs": false,
                "memoryGiB": 192,
                "name": "ml.m5.12xlarge",
                "vcpuNum": 48
            },
            {
                "_defaultOrder": 10,
                "_isFastLaunch": false,
                "category": "General purpose",
                "gpuNum": 0,
                "hideHardwareSpecs": false,
                "memoryGiB": 256,
                "name": "ml.m5.16xlarge",
                "vcpuNum": 64
            },
            {
                "_defaultOrder": 11,
                "_isFastLaunch": false,
                "category": "General purpose",
                "gpuNum": 0,
                "hideHardwareSpecs": false,
                "memoryGiB": 384,
                "name": "ml.m5.24xlarge",
                "vcpuNum": 96
            },
            {
                "_defaultOrder": 12,
                "_isFastLaunch": false,
                "category": "General purpose",
                "gpuNum": 0,
                "hideHardwareSpecs": false,
                "memoryGiB": 8,
                "name": "ml.m5d.large",
                "vcpuNum": 2
            },
            {
                "_defaultOrder": 13,
                "_isFastLaunch": false,
                "category": "General purpose",
                "gpuNum": 0,
                "hideHardwareSpecs": false,
                "memoryGiB": 16,
                "name": "ml.m5d.xlarge",
                "vcpuNum": 4
            },
            {
                "_defaultOrder": 14,
                "_isFastLaunch": false,
                "category": "General purpose",
                "gpuNum": 0,
                "hideHardwareSpecs": false,
                "memoryGiB": 32,
                "name": "ml.m5d.2xlarge",
                "vcpuNum": 8
            },
            {
                "_defaultOrder": 15,
                "_isFastLaunch": false,
                "category": "General purpose",
                "gpuNum": 0,
                "hideHardwareSpecs": false,
                "memoryGiB": 64,
                "name": "ml.m5d.4xlarge",
                "vcpuNum": 16
            },
            {
                "_defaultOrder": 16,
                "_isFastLaunch": false,
                "category": "General purpose",
                "gpuNum": 0,
                "hideHardwareSpecs": false,
                "memoryGiB": 128,
                "name": "ml.m5d.8xlarge",
                "vcpuNum": 32
            },
            {
                "_defaultOrder": 17,
                "_isFastLaunch": false,
                "category": "General purpose",
                "gpuNum": 0,
                "hideHardwareSpecs": false,
                "memoryGiB": 192,
                "name": "ml.m5d.12xlarge",
                "vcpuNum": 48
            },
            {
                "_defaultOrder": 18,
                "_isFastLaunch": false,
                "category": "General purpose",
                "gpuNum": 0,
                "hideHardwareSpecs": false,
                "memoryGiB": 256,
                "name": "ml.m5d.16xlarge",
                "vcpuNum": 64
            },
            {
                "_defaultOrder": 19,
                "_isFastLaunch": false,
                "category": "General purpose",
                "gpuNum": 0,
                "hideHardwareSpecs": false,
                "memoryGiB": 384,
                "name": "ml.m5d.24xlarge",
                "vcpuNum": 96
            },
            {
                "_defaultOrder": 20,
                "_isFastLaunch": false,
                "category": "General purpose",
                "gpuNum": 0,
                "hideHardwareSpecs": true,
                "memoryGiB": 0,
                "name": "ml.geospatial.interactive",
                "supportedImageNames": [
                    "sagemaker-geospatial-v1-0"
                ],
                "vcpuNum": 0
            },
            {
                "_defaultOrder": 21,
                "_isFastLaunch": true,
                "category": "Compute optimized",
                "gpuNum": 0,
                "hideHardwareSpecs": false,
                "memoryGiB": 4,
                "name": "ml.c5.large",
                "vcpuNum": 2
            },
            {
                "_defaultOrder": 22,
                "_isFastLaunch": false,
                "category": "Compute optimized",
                "gpuNum": 0,
                "hideHardwareSpecs": false,
                "memoryGiB": 8,
                "name": "ml.c5.xlarge",
                "vcpuNum": 4
            },
            {
                "_defaultOrder": 23,
                "_isFastLaunch": false,
                "category": "Compute optimized",
                "gpuNum": 0,
                "hideHardwareSpecs": false,
                "memoryGiB": 16,
                "name": "ml.c5.2xlarge",
                "vcpuNum": 8
            },
            {
                "_defaultOrder": 24,
                "_isFastLaunch": false,
                "category": "Compute optimized",
                "gpuNum": 0,
                "hideHardwareSpecs": false,
                "memoryGiB": 32,
                "name": "ml.c5.4xlarge",
                "vcpuNum": 16
            },
            {
                "_defaultOrder": 25,
                "_isFastLaunch": false,
                "category": "Compute optimized",
                "gpuNum": 0,
                "hideHardwareSpecs": false,
                "memoryGiB": 72,
                "name": "ml.c5.9xlarge",
                "vcpuNum": 36
            },
            {
                "_defaultOrder": 26,
                "_isFastLaunch": false,
                "category": "Compute optimized",
                "gpuNum": 0,
                "hideHardwareSpecs": false,
                "memoryGiB": 96,
                "name": "ml.c5.12xlarge",
                "vcpuNum": 48
            },
            {
                "_defaultOrder": 27,
                "_isFastLaunch": false,
                "category": "Compute optimized",
                "gpuNum": 0,
                "hideHardwareSpecs": false,
                "memoryGiB": 144,
                "name": "ml.c5.18xlarge",
                "vcpuNum": 72
            },
            {
                "_defaultOrder": 28,
                "_isFastLaunch": false,
                "category": "Compute optimized",
                "gpuNum": 0,
                "hideHardwareSpecs": false,
                "memoryGiB": 192,
                "name": "ml.c5.24xlarge",
                "vcpuNum": 96
            },
            {
                "_defaultOrder": 29,
                "_isFastLaunch": true,
                "category": "Accelerated computing",
                "gpuNum": 1,
                "hideHardwareSpecs": false,
                "memoryGiB": 16,
                "name": "ml.g4dn.xlarge",
                "vcpuNum": 4
            },
            {
                "_defaultOrder": 30,
                "_isFastLaunch": false,
                "category": "Accelerated computing",
                "gpuNum": 1,
                "hideHardwareSpecs": false,
                "memoryGiB": 32,
                "name": "ml.g4dn.2xlarge",
                "vcpuNum": 8
            },
            {
                "_defaultOrder": 31,
                "_isFastLaunch": false,
                "category": "Accelerated computing",
                "gpuNum": 1,
                "hideHardwareSpecs": false,
                "memoryGiB": 64,
                "name": "ml.g4dn.4xlarge",
                "vcpuNum": 16
            },
            {
                "_defaultOrder": 32,
                "_isFastLaunch": false,
                "category": "Accelerated computing",
                "gpuNum": 1,
                "hideHardwareSpecs": false,
                "memoryGiB": 128,
                "name": "ml.g4dn.8xlarge",
                "vcpuNum": 32
            },
            {
                "_defaultOrder": 33,
                "_isFastLaunch": false,
                "category": "Accelerated computing",
                "gpuNum": 4,
                "hideHardwareSpecs": false,
                "memoryGiB": 192,
                "name": "ml.g4dn.12xlarge",
                "vcpuNum": 48
            },
            {
                "_defaultOrder": 34,
                "_isFastLaunch": false,
                "category": "Accelerated computing",
                "gpuNum": 1,
                "hideHardwareSpecs": false,
                "memoryGiB": 256,
                "name": "ml.g4dn.16xlarge",
                "vcpuNum": 64
            },
            {
                "_defaultOrder": 35,
                "_isFastLaunch": false,
                "category": "Accelerated computing",
                "gpuNum": 1,
                "hideHardwareSpecs": false,
                "memoryGiB": 61,
                "name": "ml.p3.2xlarge",
                "vcpuNum": 8
            },
            {
                "_defaultOrder": 36,
                "_isFastLaunch": false,
                "category": "Accelerated computing",
                "gpuNum": 4,
                "hideHardwareSpecs": false,
                "memoryGiB": 244,
                "name": "ml.p3.8xlarge",
                "vcpuNum": 32
            },
            {
                "_defaultOrder": 37,
                "_isFastLaunch": false,
                "category": "Accelerated computing",
                "gpuNum": 8,
                "hideHardwareSpecs": false,
                "memoryGiB": 488,
                "name": "ml.p3.16xlarge",
                "vcpuNum": 64
            },
            {
                "_defaultOrder": 38,
                "_isFastLaunch": false,
                "category": "Accelerated computing",
                "gpuNum": 8,
                "hideHardwareSpecs": false,
                "memoryGiB": 768,
                "name": "ml.p3dn.24xlarge",
                "vcpuNum": 96
            },
            {
                "_defaultOrder": 39,
                "_isFastLaunch": false,
                "category": "Memory Optimized",
                "gpuNum": 0,
                "hideHardwareSpecs": false,
                "memoryGiB": 16,
                "name": "ml.r5.large",
                "vcpuNum": 2
            },
            {
                "_defaultOrder": 40,
                "_isFastLaunch": false,
                "category": "Memory Optimized",
                "gpuNum": 0,
                "hideHardwareSpecs": false,
                "memoryGiB": 32,
                "name": "ml.r5.xlarge",
                "vcpuNum": 4
            },
            {
                "_defaultOrder": 41,
                "_isFastLaunch": false,
                "category": "Memory Optimized",
                "gpuNum": 0,
                "hideHardwareSpecs": false,
                "memoryGiB": 64,
                "name": "ml.r5.2xlarge",
                "vcpuNum": 8
            },
            {
                "_defaultOrder": 42,
                "_isFastLaunch": false,
                "category": "Memory Optimized",
                "gpuNum": 0,
                "hideHardwareSpecs": false,
                "memoryGiB": 128,
                "name": "ml.r5.4xlarge",
                "vcpuNum": 16
            },
            {
                "_defaultOrder": 43,
                "_isFastLaunch": false,
                "category": "Memory Optimized",
                "gpuNum": 0,
                "hideHardwareSpecs": false,
                "memoryGiB": 256,
                "name": "ml.r5.8xlarge",
                "vcpuNum": 32
            },
            {
                "_defaultOrder": 44,
                "_isFastLaunch": false,
                "category": "Memory Optimized",
                "gpuNum": 0,
                "hideHardwareSpecs": false,
                "memoryGiB": 384,
                "name": "ml.r5.12xlarge",
                "vcpuNum": 48
            },
            {
                "_defaultOrder": 45,
                "_isFastLaunch": false,
                "category": "Memory Optimized",
                "gpuNum": 0,
                "hideHardwareSpecs": false,
                "memoryGiB": 512,
                "name": "ml.r5.16xlarge",
                "vcpuNum": 64
            },
            {
                "_defaultOrder": 46,
                "_isFastLaunch": false,
                "category": "Memory Optimized",
                "gpuNum": 0,
                "hideHardwareSpecs": false,
                "memoryGiB": 768,
                "name": "ml.r5.24xlarge",
                "vcpuNum": 96
            },
            {
                "_defaultOrder": 47,
                "_isFastLaunch": false,
                "category": "Accelerated computing",
                "gpuNum": 1,
                "hideHardwareSpecs": false,
                "memoryGiB": 16,
                "name": "ml.g5.xlarge",
                "vcpuNum": 4
            },
            {
                "_defaultOrder": 48,
                "_isFastLaunch": false,
                "category": "Accelerated computing",
                "gpuNum": 1,
                "hideHardwareSpecs": false,
                "memoryGiB": 32,
                "name": "ml.g5.2xlarge",
                "vcpuNum": 8
            },
            {
                "_defaultOrder": 49,
                "_isFastLaunch": false,
                "category": "Accelerated computing",
                "gpuNum": 1,
                "hideHardwareSpecs": false,
                "memoryGiB": 64,
                "name": "ml.g5.4xlarge",
                "vcpuNum": 16
            },
            {
                "_defaultOrder": 50,
                "_isFastLaunch": false,
                "category": "Accelerated computing",
                "gpuNum": 1,
                "hideHardwareSpecs": false,
                "memoryGiB": 128,
                "name": "ml.g5.8xlarge",
                "vcpuNum": 32
            },
            {
                "_defaultOrder": 51,
                "_isFastLaunch": false,
                "category": "Accelerated computing",
                "gpuNum": 1,
                "hideHardwareSpecs": false,
                "memoryGiB": 256,
                "name": "ml.g5.16xlarge",
                "vcpuNum": 64
            },
            {
                "_defaultOrder": 52,
                "_isFastLaunch": false,
                "category": "Accelerated computing",
                "gpuNum": 4,
                "hideHardwareSpecs": false,
                "memoryGiB": 192,
                "name": "ml.g5.12xlarge",
                "vcpuNum": 48
            },
            {
                "_defaultOrder": 53,
                "_isFastLaunch": false,
                "category": "Accelerated computing",
                "gpuNum": 4,
                "hideHardwareSpecs": false,
                "memoryGiB": 384,
                "name": "ml.g5.24xlarge",
                "vcpuNum": 96
            },
            {
                "_defaultOrder": 54,
                "_isFastLaunch": false,
                "category": "Accelerated computing",
                "gpuNum": 8,
                "hideHardwareSpecs": false,
                "memoryGiB": 768,
                "name": "ml.g5.48xlarge",
                "vcpuNum": 192
            },
            {
                "_defaultOrder": 55,
                "_isFastLaunch": false,
                "category": "Accelerated computing",
                "gpuNum": 8,
                "hideHardwareSpecs": false,
                "memoryGiB": 1152,
                "name": "ml.p4d.24xlarge",
                "vcpuNum": 96
            },
            {
                "_defaultOrder": 56,
                "_isFastLaunch": false,
                "category": "Accelerated computing",
                "gpuNum": 8,
                "hideHardwareSpecs": false,
                "memoryGiB": 1152,
                "name": "ml.p4de.24xlarge",
                "vcpuNum": 96
            }
        ],
        "instance_type": "ml.c5.2xlarge",
        "kernelspec": {
            "display_name": "Python 3 (PyTorch 2.0.0 Python 3.10 CPU Optimized)",
            "language": "python",
            "name": "python3__SAGEMAKER_INTERNAL__arn:aws:sagemaker:us-east-1:081325390199:image/pytorch-2.0.0-cpu-py310"
        },
        "language_info": {
            "codemirror_mode": {
                "name": "ipython",
                "version": 3
            },
            "file_extension": ".py",
            "mimetype": "text/x-python",
            "name": "python",
            "nbconvert_exporter": "python",
            "pygments_lexer": "ipython3",
            "version": "3.10.8"
        }
    },
    "nbformat": 4,
    "nbformat_minor": 5
}
