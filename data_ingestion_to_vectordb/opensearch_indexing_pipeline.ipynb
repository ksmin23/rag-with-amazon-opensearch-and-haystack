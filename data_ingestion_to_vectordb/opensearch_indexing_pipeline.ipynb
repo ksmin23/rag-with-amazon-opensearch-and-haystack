{
    "cells": [
        {
            "cell_type": "markdown",
            "id": "7d50b8d1",
            "metadata": {},
            "source": [
                "# Indexing Pipeline to write Documents to Amazon OpenSearch\n",
                "\n",
                "**_Use of Amazon OpenSearch as a vector database for storing embeddings_**\n",
                "\n",
                "This notebook works well with the `PyTorch 2.0.0 Python 3.10 CPU Optimized` kernel on a SageMaker Studio `ml.c5.2xlarge` instance.\n",
                "\n",
                "Here is a list of packages that are used in this notebook.\n",
                "\n",
                "```\n",
                "!pip freeze | grep -E \"sagemaker|boto3|haystack|opensearch|transformers|torch\"\n",
                "------------------------------------------\n",
                "boto3==1.26.132\n",
                "farm-haystack==1.21.0\n",
                "opensearch-py==2.3.1\n",
                "sagemaker==2.188.0\n",
                "sagemaker-experiments==0.1.43\n",
                "sagemaker-pytorch-training==2.8.0\n",
                "sagemaker-training==4.5.0\n",
                "sentence-transformers==2.2.2\n",
                "smdebug @ file:///tmp/sagemaker-debugger\n",
                "torch==2.0.0\n",
                "torchaudio==2.0.1\n",
                "torchdata @ file:///opt/conda/conda-bld/torchdata_1679615656247/work\n",
                "torchtext==0.15.1\n",
                "torchvision==0.15.1\n",
                "transformers==4.32.1\n",
                "```"
            ]
        },
        {
            "cell_type": "code",
            "execution_count": 1,
            "id": "97d35b05-6897-4e45-9174-869e200f4557",
            "metadata": {
                "collapsed": true,
                "jupyter": {
                    "outputs_hidden": true
                },
                "tags": []
            },
            "outputs": [],
            "source": [
                "!pip install -U -r requirements.txt\n",
                "!pip install -U sagemaker"
            ]
        },
        {
            "cell_type": "code",
            "execution_count": 2,
            "id": "acd08166-0cfa-4e93-8d4b-d329d9e0ef55",
            "metadata": {
                "tags": []
            },
            "outputs": [
                {
                    "name": "stdout",
                    "output_type": "stream",
                    "text": [
                        "boto3==1.26.132\n",
                        "farm-haystack==1.21.0\n",
                        "opensearch-py==2.3.1\n",
                        "sagemaker==2.188.0\n",
                        "sagemaker-experiments==0.1.43\n",
                        "sagemaker-pytorch-training==2.8.0\n",
                        "sagemaker-training==4.5.0\n",
                        "sentence-transformers==2.2.2\n",
                        "smdebug @ file:///tmp/sagemaker-debugger\n",
                        "torch==2.0.0\n",
                        "torchaudio==2.0.1\n",
                        "torchdata @ file:///opt/conda/conda-bld/torchdata_1679615656247/work\n",
                        "torchtext==0.15.1\n",
                        "torchvision==0.15.1\n",
                        "transformers==4.32.1\n"
                    ]
                }
            ],
            "source": [
                "!pip freeze | grep -E \"sagemaker|boto3|haystack|opensearch|transformers|torch\""
            ]
        },
        {
            "cell_type": "code",
            "execution_count": 3,
            "id": "d01fb6c7-8f7a-4fc4-a6a6-a23f8dcac957",
            "metadata": {
                "tags": []
            },
            "outputs": [],
            "source": [
                "import boto3\n",
                "import json\n",
                "\n",
                "\n",
                "def get_opensearch_endpoint(stack_name: str, region_name: str = 'us-east-1'):\n",
                "    cf_client = boto3.client('cloudformation', region_name=region_name)\n",
                "    response = cf_client.describe_stacks(StackName=stack_name)\n",
                "    outputs = response[\"Stacks\"][0][\"Outputs\"]\n",
                "\n",
                "    ops_endpoint = [e for e in outputs if e['ExportName'] == 'OpenSearchDomainEndpoint'][0]\n",
                "    ops_endpoint_name = ops_endpoint['OutputValue']\n",
                "    return ops_endpoint_name\n",
                "\n",
                "\n",
                "\n",
                "def get_secret_name(stack_name: str, region_name: str = 'us-east-1'):\n",
                "    cf_client = boto3.client('cloudformation', region_name=region_name)\n",
                "    response = cf_client.describe_stacks(StackName=stack_name)\n",
                "    outputs = response[\"Stacks\"][0][\"Outputs\"]\n",
                "\n",
                "    secrets = [e for e in outputs if e['ExportName'] == 'MasterUserSecretId'][0]\n",
                "    secret_name = secrets['OutputValue']\n",
                "    return secret_name\n",
                "\n",
                "\n",
                "def get_secret(secret_name: str, region_name: str = 'us-east-1'):\n",
                "    client = boto3.client('secretsmanager', region_name=region_name)\n",
                "    get_secret_value_response = client.get_secret_value(SecretId=secret_name)\n",
                "    secret = get_secret_value_response['SecretString']\n",
                "\n",
                "    return json.loads(secret)"
            ]
        },
        {
            "cell_type": "code",
            "execution_count": 4,
            "id": "ecaa83d3-9c80-4c0b-bb3b-9bcd07727663",
            "metadata": {
                "tags": []
            },
            "outputs": [],
            "source": [
                "AWS_REGION_NAME = boto3.Session().region_name\n",
                "\n",
                "AWS_REGION_NAME"
            ]
        },
        {
            "cell_type": "code",
            "execution_count": 5,
            "id": "ca0c076a-5264-4000-8763-47c013443197",
            "metadata": {
                "tags": []
            },
            "outputs": [],
            "source": [
                "stack_name = 'RAGHaystackOpenSearchStack'\n",
                "secret_name = get_secret_name(stack_name, region_name=AWS_REGION_NAME)\n",
                "secret = get_secret(secret_name, region_name=AWS_REGION_NAME)\n",
                "display(secret)\n",
                "\n",
                "opensearch_endpoint = get_opensearch_endpoint(stack_name, region_name=AWS_REGION_NAME)\n",
                "display(opensearch_endpoint)"
            ]
        },
        {
            "cell_type": "code",
            "execution_count": 6,
            "id": "04014ec0-93aa-4f23-89df-6fde70255089",
            "metadata": {
                "tags": []
            },
            "outputs": [],
            "source": [
                "OPENSEARCH_HOST = opensearch_endpoint\n",
                "OPENSEARCH_PORT = 443\n",
                "OPENSEARCH_USERNAME = secret['username']\n",
                "OPENSEARCH_PASSWORD = secret['password']"
            ]
        },
        {
            "cell_type": "code",
            "execution_count": 7,
            "id": "18d734f6-dff2-4294-8ffc-3640b10a442c",
            "metadata": {
                "tags": []
            },
            "outputs": [],
            "source": [
                "import warnings\n",
                "\n",
                "warnings.filterwarnings(\"ignore\")  # avoid printing out absolute paths"
            ]
        },
        {
            "cell_type": "code",
            "execution_count": 8,
            "id": "73fed58e-6858-4629-82d9-ce982cec4d83",
            "metadata": {
                "tags": []
            },
            "outputs": [],
            "source": [
                "from haystack.document_stores import OpenSearchDocumentStore"
            ]
        },
        {
            "cell_type": "code",
            "execution_count": 9,
            "id": "6bf7fcd3-09c7-429e-bc69-9b5728ec7163",
            "metadata": {
                "tags": []
            },
            "outputs": [],
            "source": [
                "doc_store = OpenSearchDocumentStore(host=OPENSEARCH_HOST,\n",
                "                                    port=OPENSEARCH_PORT,\n",
                "                                    username=OPENSEARCH_USERNAME,\n",
                "                                    password=OPENSEARCH_PASSWORD,\n",
                "                                    embedding_dim=384)"
            ]
        },
        {
            "cell_type": "code",
            "execution_count": 10,
            "id": "7221d98d-ba11-47b3-a3af-f32738e5e041",
            "metadata": {
                "tags": []
            },
            "outputs": [],
            "source": [
                "from haystack.nodes import JsonConverter\n",
                "\n",
                "converter = JsonConverter()"
            ]
        },
        {
            "cell_type": "code",
            "execution_count": 11,
            "id": "2697e5dc-f1b0-4410-bc51-9e0408ff83d0",
            "metadata": {
                "tags": []
            },
            "outputs": [],
            "source": [
                "from haystack.nodes import PreProcessor\n",
                "\n",
                "preprocessor = PreProcessor(\n",
                "    clean_empty_lines=True,\n",
                "    split_by='word',\n",
                "    split_respect_sentence_boundary=True,\n",
                "    split_length=80,\n",
                "    split_overlap=20\n",
                ")"
            ]
        },
        {
            "cell_type": "code",
            "execution_count": 12,
            "id": "37e5d83b-5b4a-4f75-b701-fdd97dc0320a",
            "metadata": {
                "tags": []
            },
            "outputs": [],
            "source": [
                "from haystack.nodes import EmbeddingRetriever\n",
                "\n",
                "retriever = EmbeddingRetriever(\n",
                "    document_store=doc_store,\n",
                "    embedding_model=\"sentence-transformers/all-MiniLM-L12-v2\",\n",
                "    devices=[\"cpu\"],\n",
                "    top_k=5\n",
                ")"
            ]
        },
        {
            "cell_type": "code",
            "execution_count": 13,
            "id": "e0bbdc26-1cdc-4247-a53e-482fc4508642",
            "metadata": {
                "tags": []
            },
            "outputs": [],
            "source": [
                "from haystack import Pipeline\n",
                "\n",
                "indexing_pipeline = Pipeline()\n",
                "indexing_pipeline.add_node(component=converter, name=\"Converter\", inputs=[\"File\"])\n",
                "indexing_pipeline.add_node(component=preprocessor, name=\"PreProcessor\", inputs=[\"Converter\"])\n",
                "indexing_pipeline.add_node(component=retriever, name=\"Retriever\", inputs=[\"PreProcessor\"])\n",
                "indexing_pipeline.add_node(component=doc_store, name=\"DocumentStore\", inputs=[\"Retriever\"])"
            ]
        },
        {
            "cell_type": "code",
            "execution_count": 14,
            "id": "5fd902cc-bf45-4799-96ff-340b8e347295",
            "metadata": {
                "tags": []
            },
            "outputs": [],
            "source": [
                "%%sh\n",
                "\n",
                "mkdir -p data\n",
                "cd ./data\n",
                "wget https://raw.githubusercontent.com/deepset-ai/haystack-sagemaker/main/data/opensearch-documentation-2.7.json\n",
                "wget https://raw.githubusercontent.com/deepset-ai/haystack-sagemaker/main/data/opensearch-website.json"
            ]
        },
        {
            "cell_type": "code",
            "execution_count": 15,
            "id": "0e7783fd-f675-4c14-86c0-20baf18dd5aa",
            "metadata": {
                "tags": []
            },
            "outputs": [],
            "source": [
                "indexing_pipeline.run(file_paths=[\n",
                "    \"data/opensearch-documentation-2.7.json\",\n",
                "    \"data/opensearch-website.json\"\n",
                "])"
            ]
        },
        {
            "cell_type": "markdown",
            "id": "eed0c245-812b-432a-bab0-30144038d3bf",
            "metadata": {},
            "source": [
                "---\n",
                "## Do a similarity search for for user input to documents (embeddings) in Amazon OpenSearch"
            ]
        },
        {
            "cell_type": "code",
            "execution_count": 16,
            "id": "bfd8be12-6c13-4331-90fc-b9e5c13f50d2",
            "metadata": {
                "tags": []
            },
            "outputs": [],
            "source": [
                "from haystack.pipelines import DocumentSearchPipeline\n",
                "from haystack.utils import print_documents"
            ]
        },
        {
            "cell_type": "code",
            "execution_count": 17,
            "id": "b1457265-831d-4116-bc9b-34f2a717d4ef",
            "metadata": {
                "tags": []
            },
            "outputs": [],
            "source": [
                "p_retrieval = DocumentSearchPipeline(retriever)"
            ]
        },
        {
            "cell_type": "code",
            "execution_count": 18,
            "id": "cd5fcdac-acfd-48c1-b41d-69184135e65b",
            "metadata": {
                "tags": []
            },
            "outputs": [
                {
                    "name": "stderr",
                    "output_type": "stream",
                    "text": [
                        "Batches: 100%|██████████| 1/1 [00:00<00:00, 41.96it/s]\n"
                    ]
                },
                {
                    "name": "stdout",
                    "output_type": "stream",
                    "text": [
                        "\n",
                        "Query: What is OpenSearch?\n",
                        "\n",
                        "{   'content': 'Really it’s a way to provide anything as a service, any '\n",
                        "               'application, and we’re pleased to announce that OpenSearch is '\n",
                        "               'the latest certified container available in the Virtuozzo '\n",
                        "               'DevOps PaaS solution.\\n'\n",
                        "               'Op...',\n",
                        "    'meta': {   '_split_id': 1,\n",
                        "                '_split_overlap': [   {   'doc_id': '3f56a02ceac197f7bbaeac1e9973cb89',\n",
                        "                                          'range': [0, 332]},\n",
                        "                                      {   'doc_id': '246cd78e38ab76ea38332ca185e213f4',\n",
                        "                                          'range': [333, 549]}],\n",
                        "                'keywords': ['partners'],\n",
                        "                'title': 'Partner Highlight: How to Offer OpenSearch as a '\n",
                        "                         'Service using Virtuozzo DevOps PaaS',\n",
                        "                'type': 'News',\n",
                        "                'url': '/blog/opensearch-as-a-service/'},\n",
                        "    'name': None}\n",
                        "\n",
                        "{   'content': 'OpenSearch provides a basis for many useful workflows meant to '\n",
                        "               'analyze, visualize, and aggregate data.\\n'\n",
                        "               'So what is OpenSearch then?\\n'\n",
                        "               'OpenSearch is an open-source project built on top of Apache '\n",
                        "               'Lucene, a...',\n",
                        "    'meta': {   '_split_id': 1,\n",
                        "                '_split_overlap': [   {   'doc_id': '3c5287998cec8892c4d049fa90f06a81',\n",
                        "                                          'range': [0, 130]},\n",
                        "                                      {   'doc_id': '5c3ea201474b9fd0f1927e9ec999a93a',\n",
                        "                                          'range': [239, 432]}],\n",
                        "                'keywords': ['intro'],\n",
                        "                'title': 'A Quick OpenSearch Primer',\n",
                        "                'type': 'News',\n",
                        "                'url': '/blog/a-quick-opensearch-primer/'},\n",
                        "    'name': None}\n",
                        "\n",
                        "{   'content': 'This page contains example requests for popular OpenSearch '\n",
                        "               'operations.\\n',\n",
                        "    'meta': {   '_split_id': 0,\n",
                        "                '_split_overlap': [],\n",
                        "                'ancestors': ['API reference'],\n",
                        "                'title': 'Popular APIs',\n",
                        "                'type': 'DOCS',\n",
                        "                'url': '/docs/latest/api-reference/popular-api/'},\n",
                        "    'name': None}\n",
                        "\n",
                        "{   'content': 'OpenSearch is a distributed, open source search and analytics '\n",
                        "               'suite used for a broad set of use cases like real-time '\n",
                        "               'application monitoring, log analytics, and website search. And '\n",
                        "               'it’s easy to imagine...',\n",
                        "    'meta': {   '_split_id': 0,\n",
                        "                '_split_overlap': [   {   'doc_id': 'f5174243bab5cd65399fe7ad79ea3c3f',\n",
                        "                                          'range': [277, 387]}],\n",
                        "                'keywords': ['community'],\n",
                        "                'title': 'A query, or There and Back Again',\n",
                        "                'type': 'News',\n",
                        "                'url': '/blog/a-query-or-there-and-back-again/'},\n",
                        "    'name': None}\n",
                        "\n",
                        "{   'content': 'Users can extend the functionality of OpenSearch with a '\n",
                        "               'selection of plugins that enhance search, analytics, '\n",
                        "               'observability, security, machine learning, and more.\\n'\n",
                        "               'The OpenSearch Project was first annou...',\n",
                        "    'meta': {   '_split_id': 1,\n",
                        "                '_split_overlap': [   {   'doc_id': 'df623ae90e16f7be997fad67e72a12a6',\n",
                        "                                          'range': [0, 161]},\n",
                        "                                      {   'doc_id': '43dbc4ef822171dfb9bedd4a375d5bbb',\n",
                        "                                          'range': [162, 380]}],\n",
                        "                'keywords': [],\n",
                        "                'title': 'About',\n",
                        "                'type': None,\n",
                        "                'url': '/about.html'},\n",
                        "    'name': None}\n",
                        "\n",
                        "{   'content': 'OpenSearch is a distributed search and analytics engine based '\n",
                        "               'on Apache Lucene. After adding your data to OpenSearch, you '\n",
                        "               'can perform full-text searches on it with all of the features '\n",
                        "               'you might expect...',\n",
                        "    'meta': {   '_split_id': 0,\n",
                        "                '_split_overlap': [   {   'doc_id': '5f596b6bc231bc36b419cef14be9022b',\n",
                        "                                          'range': [327, 466]}],\n",
                        "                'ancestors': ['OpenSearch documentation'],\n",
                        "                'title': 'About OpenSearch',\n",
                        "                'type': 'DOCS',\n",
                        "                'url': '/docs/latest/about/'},\n",
                        "    'name': None}\n",
                        "\n",
                        "{   'content': 'It also serves as a user interface for many of the OpenSearch '\n",
                        "               'plugins, including security, alerting, Index State Management, '\n",
                        "               'SQL, and more. ',\n",
                        "    'meta': {   '_split_id': 5,\n",
                        "                '_split_overlap': [],\n",
                        "                'keywords': [],\n",
                        "                'title': 'Download & Get Started',\n",
                        "                'type': None,\n",
                        "                'url': '/downloads.html'},\n",
                        "    'name': None}\n",
                        "\n",
                        "{   'content': 'We wanted to be sure users continue to have a secure, '\n",
                        "               'high-quality, fully open-source search and analytics suite '\n",
                        "               'with a rich roadmap of new and innovative functionality.\\n'\n",
                        "               'What is the OpenSearch project...',\n",
                        "    'meta': {   '_split_id': 1,\n",
                        "                '_split_overlap': [   {   'doc_id': 'd41f770e597d9367a0e63ee21a568518',\n",
                        "                                          'range': [0, 201]},\n",
                        "                                      {   'doc_id': '9aacb355b38a998af187f5acdb63c1ed',\n",
                        "                                          'range': [202, 495]}],\n",
                        "                'keywords': ['community'],\n",
                        "                'title': 'Year One: The OpenSearch Project',\n",
                        "                'type': 'News',\n",
                        "                'url': '/blog/year-one-the-opensearch-project/'},\n",
                        "    'name': None}\n",
                        "\n",
                        "{   'content': 'All along, the mission of the OpenSearch project has been to '\n",
                        "               'promote the long-term success of a thriving, feature-rich, '\n",
                        "               'broadly adopted, community-driven open-source search and '\n",
                        "               'analytics software suit...',\n",
                        "    'meta': {   '_split_id': 2,\n",
                        "                '_split_overlap': [   {   'doc_id': '5c1bda178083b05a0be666e8d2ea7946',\n",
                        "                                          'range': [0, 293]},\n",
                        "                                      {   'doc_id': '2fa794d5de4941ab96c4d48fc2bf626c',\n",
                        "                                          'range': [294, 487]}],\n",
                        "                'keywords': ['community'],\n",
                        "                'title': 'Year One: The OpenSearch Project',\n",
                        "                'type': 'News',\n",
                        "                'url': '/blog/year-one-the-opensearch-project/'},\n",
                        "    'name': None}\n",
                        "\n",
                        "{   'content': 'As a fully open source solution, OpenSearch offers you the '\n",
                        "               'freedom to modify, extend, monetize, and resell the product as '\n",
                        "               'you see fit, as well as the flexibility to deploy on a variety '\n",
                        "               'of infrastructu...',\n",
                        "    'meta': {   '_split_id': 6,\n",
                        "                '_split_overlap': [   {   'doc_id': 'cb6baefc984fb9bd2dd01b47c5cc1055',\n",
                        "                                          'range': [0, 204]},\n",
                        "                                      {   'doc_id': 'dbfc2941da6b5a231d10381615a313fb',\n",
                        "                                          'range': [205, 398]}],\n",
                        "                'keywords': [],\n",
                        "                'title': 'About',\n",
                        "                'type': None,\n",
                        "                'url': '/about.html'},\n",
                        "    'name': None}\n",
                        "\n"
                    ]
                }
            ],
            "source": [
                "query = \"What is OpenSearch?\"\n",
                "res = p_retrieval.run(query=query, params={\"Retriever\": {\"top_k\": 10}})\n",
                "print_documents(res, max_text_len=200, print_meta=True)"
            ]
        },
        {
            "cell_type": "markdown",
            "id": "fa4e3722-0a04-48f9-9b26-014b3a17b908",
            "metadata": {},
            "source": [
                "---\n",
                "## Text Retrieval using BM25"
            ]
        },
        {
            "cell_type": "code",
            "execution_count": 19,
            "id": "0346f821-2c6d-4491-8611-db69eb032952",
            "metadata": {
                "tags": []
            },
            "outputs": [],
            "source": [
                "from haystack.nodes import BM25Retriever\n",
                "\n",
                "bm25_retriever = BM25Retriever(document_store=doc_store)\n",
                "bm25_retrieval = DocumentSearchPipeline(bm25_retriever)"
            ]
        },
        {
            "cell_type": "code",
            "execution_count": 20,
            "id": "a0b1fe63-8ab5-4e5b-ab93-4ce32a1b4996",
            "metadata": {
                "tags": []
            },
            "outputs": [
                {
                    "name": "stdout",
                    "output_type": "stream",
                    "text": [
                        "\n",
                        "Query: What is OpenSearch?\n",
                        "\n",
                        "{   'content': 'Plugins are fundamental to how OpenSearch works, and the '\n",
                        "               'similarity extends to OpenSearch Dashboards too. Infact almost '\n",
                        "               'everything that you see inside OpenSearch Dashboards is built '\n",
                        "               'inside a plugin. A...',\n",
                        "    'meta': {   '_split_id': 0,\n",
                        "                '_split_overlap': [   {   'doc_id': 'acbabd38a6b5351a13ccd5a6624f94a6',\n",
                        "                                          'range': [334, 479]}],\n",
                        "                'keywords': ['technical-post'],\n",
                        "                'title': 'Introduction to OpenSearch Dashboard Plugins',\n",
                        "                'type': 'News',\n",
                        "                'url': '/blog/dashboards-plugins-intro/'},\n",
                        "    'name': None}\n",
                        "\n",
                        "{   'content': 'Simulate an index by index name\\n'\n",
                        "               'It is challenging to predict the appearance of the index when '\n",
                        "               'taking into account existing templates. To resolve this issue, '\n",
                        "               'OpenSearch will attempt to match the index ...',\n",
                        "    'meta': {   '_split_id': 3,\n",
                        "                '_split_overlap': [   {   'doc_id': 'c55e1e4ac467bf9f1fa97eadfa5304d9',\n",
                        "                                          'range': [0, 133]},\n",
                        "                                      {   'doc_id': '4031ef56c76bf69893e858b727f14167',\n",
                        "                                          'range': [289, 428]}],\n",
                        "                'keywords': ['technical-post'],\n",
                        "                'title': 'Index Management UI enhancements',\n",
                        "                'type': 'News',\n",
                        "                'url': '/blog/admin-panels-for-index-operations/'},\n",
                        "    'name': None}\n",
                        "\n",
                        "{   'content': 'OpenSearch will merge what users manually input with what the '\n",
                        "               'matching template contains, making it a “what you see is what '\n",
                        "               'you get” index. Edit settings by JSON editor and diff mode\\n'\n",
                        "               'The new Index Man...',\n",
                        "    'meta': {   '_split_id': 4,\n",
                        "                '_split_overlap': [   {   'doc_id': '147378a205250e56ba9fddd875c4013f',\n",
                        "                                          'range': [0, 139]},\n",
                        "                                      {   'doc_id': '5648d35a4e09c8854650742b35a571b3',\n",
                        "                                          'range': [140, 330]}],\n",
                        "                'keywords': ['technical-post'],\n",
                        "                'title': 'Index Management UI enhancements',\n",
                        "                'type': 'News',\n",
                        "                'url': '/blog/admin-panels-for-index-operations/'},\n",
                        "    'name': None}\n",
                        "\n",
                        "{   'content': 'What is a plugin\\n'\n",
                        "               'To understand what a plugin in OpenSearch Dashboards is, first '\n",
                        "               'it’s important to understand what makes up OpenSearch '\n",
                        "               'Dashboards. It has 3 main components:\\n'\n",
                        "               'Core: The main runtime respo...',\n",
                        "    'meta': {   '_split_id': 1,\n",
                        "                '_split_overlap': [   {   'doc_id': 'f37358a9a9d05c73812a139e8e576de8',\n",
                        "                                          'range': [0, 145]},\n",
                        "                                      {   'doc_id': 'b6a775dbcec13af388fbc237d9f66440',\n",
                        "                                          'range': [146, 468]}],\n",
                        "                'keywords': ['technical-post'],\n",
                        "                'title': 'Introduction to OpenSearch Dashboard Plugins',\n",
                        "                'type': 'News',\n",
                        "                'url': '/blog/dashboards-plugins-intro/'},\n",
                        "    'name': None}\n",
                        "\n",
                        "{   'content': 'Feel free to create an issue or submit a PR!\\n'\n",
                        "               'GitHub\\n'\n",
                        "               'GitHub is the best outlet for feature requests and bug '\n",
                        "               'reports.\\n'\n",
                        "               'If you want OpenSearch or OpenSearch Dashboards to do '\n",
                        "               'something that it currently do...',\n",
                        "    'meta': {   '_split_id': 8,\n",
                        "                '_split_overlap': [   {   'doc_id': '10a7353b1cdcba31e70993256e385120',\n",
                        "                                          'range': [0, 115]},\n",
                        "                                      {   'doc_id': 'acbdc804cc7d44ef3961818e401ff9d1',\n",
                        "                                          'range': [275, 450]}],\n",
                        "                'keywords': ['technical-post'],\n",
                        "                'title': 'Are you asking the right people the right questions?',\n",
                        "                'type': 'News',\n",
                        "                'url': '/blog/asking-the-right-people-the-right-questions/'},\n",
                        "    'name': None}\n",
                        "\n",
                        "{   'content': 'I think people often use Semantic Versioning (a.k.a SemVer) '\n",
                        "               'intuitively even if they don’t know the term. So, let’s take a '\n",
                        "               'look at what SemVer is and what it means for software like '\n",
                        "               'OpenSearch.\\n'\n",
                        "               'SemVer...',\n",
                        "    'meta': {   '_split_id': 0,\n",
                        "                '_split_overlap': [   {   'doc_id': '44ab9c0a7ff4545ee7868cfcd5b6a373',\n",
                        "                                          'range': [106, 233]}],\n",
                        "                'keywords': ['technical-post'],\n",
                        "                'title': 'OpenSearch Versioning, or What is SemVer anyway?',\n",
                        "                'type': 'News',\n",
                        "                'url': '/blog/what-is-semver/'},\n",
                        "    'name': None}\n",
                        "\n",
                        "{   'content': '4.3 What are the requirements for a project before it can be '\n",
                        "               'moved into the OpenSearch Project GitHub organization? There '\n",
                        "               'are three requirements:\\n'\n",
                        "               'The project is licensed under a permissive open source...',\n",
                        "    'meta': {   '_split_id': 86,\n",
                        "                '_split_overlap': [   {   'doc_id': 'edbf5016f01696c9777a9da42534bcd1',\n",
                        "                                          'range': [0, 226]},\n",
                        "                                      {   'doc_id': '29c2e8fba1f2f56749281f866d379e36',\n",
                        "                                          'range': [227, 426]}],\n",
                        "                'keywords': [],\n",
                        "                'title': 'Frequently Asked Questions',\n",
                        "                'type': None,\n",
                        "                'url': '/faq/'},\n",
                        "    'name': None}\n",
                        "\n",
                        "{   'content': 'If that seems like a lot, don’t worry—this post will take it '\n",
                        "               'bit by bit. I’ll assume you know what OpenSearch is, but what '\n",
                        "               'about the rest of that stuff? OpenSearch Operator for '\n",
                        "               'Kubernetes controls and...',\n",
                        "    'meta': {   '_split_id': 1,\n",
                        "                '_split_overlap': [   {   'doc_id': 'ed237d810556039b2f47f6b78fa2f944',\n",
                        "                                          'range': [0, 152]},\n",
                        "                                      {   'doc_id': '295fad3f2af09fc1bfe251282e8f22d2',\n",
                        "                                          'range': [300, 431]}],\n",
                        "                'keywords': ['technical-post'],\n",
                        "                'title': 'Using Fluent Bit and OpenSearch with Bottlerocket '\n",
                        "                         'and Kubelet logs',\n",
                        "                'type': 'News',\n",
                        "                'url': '/blog/bottlerocket-k8s-fluent-bit/'},\n",
                        "    'name': None}\n",
                        "\n",
                        "{   'content': 'First time here?\\n'\n",
                        "               'Have you only recently heard of OpenSearch and are curious '\n",
                        "               'just what it is? Here’s some help getting on your feet. First, '\n",
                        "               'about indexing and full text search as a core function. '\n",
                        "               'Also,...',\n",
                        "    'meta': {   '_split_id': 0,\n",
                        "                '_split_overlap': [   {   'doc_id': '7379a6f574172ad8e637fcbabaa5ec19',\n",
                        "                                          'range': [280, 410]}],\n",
                        "                'keywords': ['intro'],\n",
                        "                'title': 'A Quick OpenSearch Primer',\n",
                        "                'type': 'News',\n",
                        "                'url': '/blog/a-quick-opensearch-primer/'},\n",
                        "    'name': None}\n",
                        "\n",
                        "{   'content': 'For the developers of OpenSearch it gives clear instruction on '\n",
                        "               'what constitutes a major, minor, and patch version.\\n'\n",
                        "               'Now that you’re armed with this knowledge, it’s a great time '\n",
                        "               'to take a look at the ro...',\n",
                        "    'meta': {   '_split_id': 33,\n",
                        "                '_split_overlap': [   {   'doc_id': '9b0590feb07d9265b266c87ed6d8bef6',\n",
                        "                                          'range': [0, 114]}],\n",
                        "                'keywords': ['technical-post'],\n",
                        "                'title': 'OpenSearch Versioning, or What is SemVer anyway?',\n",
                        "                'type': 'News',\n",
                        "                'url': '/blog/what-is-semver/'},\n",
                        "    'name': None}\n",
                        "\n"
                    ]
                }
            ],
            "source": [
                "query = \"What is OpenSearch?\"\n",
                "res = bm25_retrieval.run(query=query, params={\"Retriever\": {\"top_k\": 10}})\n",
                "print_documents(res, max_text_len=200, print_meta=True)"
            ]
        },
        {
            "cell_type": "markdown",
            "id": "7eab59aa-ed3d-4486-b945-9112698f9edf",
            "metadata": {},
            "source": [
                "---\n",
                "\n",
                "## References\n",
                "\n",
                "  * [Build production-ready generative AI applications for enterprise search using Haystack pipelines and Amazon SageMaker JumpStart with LLMs (2023-08-14)](https://aws.amazon.com/blogs/machine-learning/build-production-ready-generative-ai-applications-for-enterprise-search-using-haystack-pipelines-and-amazon-sagemaker-jumpstart-with-llms/)\n",
                "    * [Haystack Retrieval-Augmented Generative QA Pipelines with SageMaker JumpStart](https://github.com/deepset-ai/haystack-sagemaker/)\n",
                "  * [Using the Amazon SageMaker Studio Image Build CLI to build container images from your Studio notebooks](https://aws.amazon.com/blogs/machine-learning/using-the-amazon-sagemaker-studio-image-build-cli-to-build-container-images-from-your-studio-notebooks/)\n",
                "  * [Haystack](https://docs.haystack.deepset.ai/docs) - The open source Python framework by deepset for building custom apps with large language models (LLMs).\n",
                "  * [Tutorial: How to Use Pipelines](https://haystack.deepset.ai/tutorials/11_pipelines)"
            ]
        }
    ],
    "metadata": {
        "availableInstances": [
            {
                "_defaultOrder": 0,
                "_isFastLaunch": true,
                "category": "General purpose",
                "gpuNum": 0,
                "hideHardwareSpecs": false,
                "memoryGiB": 4,
                "name": "ml.t3.medium",
                "vcpuNum": 2
            },
            {
                "_defaultOrder": 1,
                "_isFastLaunch": false,
                "category": "General purpose",
                "gpuNum": 0,
                "hideHardwareSpecs": false,
                "memoryGiB": 8,
                "name": "ml.t3.large",
                "vcpuNum": 2
            },
            {
                "_defaultOrder": 2,
                "_isFastLaunch": false,
                "category": "General purpose",
                "gpuNum": 0,
                "hideHardwareSpecs": false,
                "memoryGiB": 16,
                "name": "ml.t3.xlarge",
                "vcpuNum": 4
            },
            {
                "_defaultOrder": 3,
                "_isFastLaunch": false,
                "category": "General purpose",
                "gpuNum": 0,
                "hideHardwareSpecs": false,
                "memoryGiB": 32,
                "name": "ml.t3.2xlarge",
                "vcpuNum": 8
            },
            {
                "_defaultOrder": 4,
                "_isFastLaunch": true,
                "category": "General purpose",
                "gpuNum": 0,
                "hideHardwareSpecs": false,
                "memoryGiB": 8,
                "name": "ml.m5.large",
                "vcpuNum": 2
            },
            {
                "_defaultOrder": 5,
                "_isFastLaunch": false,
                "category": "General purpose",
                "gpuNum": 0,
                "hideHardwareSpecs": false,
                "memoryGiB": 16,
                "name": "ml.m5.xlarge",
                "vcpuNum": 4
            },
            {
                "_defaultOrder": 6,
                "_isFastLaunch": false,
                "category": "General purpose",
                "gpuNum": 0,
                "hideHardwareSpecs": false,
                "memoryGiB": 32,
                "name": "ml.m5.2xlarge",
                "vcpuNum": 8
            },
            {
                "_defaultOrder": 7,
                "_isFastLaunch": false,
                "category": "General purpose",
                "gpuNum": 0,
                "hideHardwareSpecs": false,
                "memoryGiB": 64,
                "name": "ml.m5.4xlarge",
                "vcpuNum": 16
            },
            {
                "_defaultOrder": 8,
                "_isFastLaunch": false,
                "category": "General purpose",
                "gpuNum": 0,
                "hideHardwareSpecs": false,
                "memoryGiB": 128,
                "name": "ml.m5.8xlarge",
                "vcpuNum": 32
            },
            {
                "_defaultOrder": 9,
                "_isFastLaunch": false,
                "category": "General purpose",
                "gpuNum": 0,
                "hideHardwareSpecs": false,
                "memoryGiB": 192,
                "name": "ml.m5.12xlarge",
                "vcpuNum": 48
            },
            {
                "_defaultOrder": 10,
                "_isFastLaunch": false,
                "category": "General purpose",
                "gpuNum": 0,
                "hideHardwareSpecs": false,
                "memoryGiB": 256,
                "name": "ml.m5.16xlarge",
                "vcpuNum": 64
            },
            {
                "_defaultOrder": 11,
                "_isFastLaunch": false,
                "category": "General purpose",
                "gpuNum": 0,
                "hideHardwareSpecs": false,
                "memoryGiB": 384,
                "name": "ml.m5.24xlarge",
                "vcpuNum": 96
            },
            {
                "_defaultOrder": 12,
                "_isFastLaunch": false,
                "category": "General purpose",
                "gpuNum": 0,
                "hideHardwareSpecs": false,
                "memoryGiB": 8,
                "name": "ml.m5d.large",
                "vcpuNum": 2
            },
            {
                "_defaultOrder": 13,
                "_isFastLaunch": false,
                "category": "General purpose",
                "gpuNum": 0,
                "hideHardwareSpecs": false,
                "memoryGiB": 16,
                "name": "ml.m5d.xlarge",
                "vcpuNum": 4
            },
            {
                "_defaultOrder": 14,
                "_isFastLaunch": false,
                "category": "General purpose",
                "gpuNum": 0,
                "hideHardwareSpecs": false,
                "memoryGiB": 32,
                "name": "ml.m5d.2xlarge",
                "vcpuNum": 8
            },
            {
                "_defaultOrder": 15,
                "_isFastLaunch": false,
                "category": "General purpose",
                "gpuNum": 0,
                "hideHardwareSpecs": false,
                "memoryGiB": 64,
                "name": "ml.m5d.4xlarge",
                "vcpuNum": 16
            },
            {
                "_defaultOrder": 16,
                "_isFastLaunch": false,
                "category": "General purpose",
                "gpuNum": 0,
                "hideHardwareSpecs": false,
                "memoryGiB": 128,
                "name": "ml.m5d.8xlarge",
                "vcpuNum": 32
            },
            {
                "_defaultOrder": 17,
                "_isFastLaunch": false,
                "category": "General purpose",
                "gpuNum": 0,
                "hideHardwareSpecs": false,
                "memoryGiB": 192,
                "name": "ml.m5d.12xlarge",
                "vcpuNum": 48
            },
            {
                "_defaultOrder": 18,
                "_isFastLaunch": false,
                "category": "General purpose",
                "gpuNum": 0,
                "hideHardwareSpecs": false,
                "memoryGiB": 256,
                "name": "ml.m5d.16xlarge",
                "vcpuNum": 64
            },
            {
                "_defaultOrder": 19,
                "_isFastLaunch": false,
                "category": "General purpose",
                "gpuNum": 0,
                "hideHardwareSpecs": false,
                "memoryGiB": 384,
                "name": "ml.m5d.24xlarge",
                "vcpuNum": 96
            },
            {
                "_defaultOrder": 20,
                "_isFastLaunch": false,
                "category": "General purpose",
                "gpuNum": 0,
                "hideHardwareSpecs": true,
                "memoryGiB": 0,
                "name": "ml.geospatial.interactive",
                "supportedImageNames": [
                    "sagemaker-geospatial-v1-0"
                ],
                "vcpuNum": 0
            },
            {
                "_defaultOrder": 21,
                "_isFastLaunch": true,
                "category": "Compute optimized",
                "gpuNum": 0,
                "hideHardwareSpecs": false,
                "memoryGiB": 4,
                "name": "ml.c5.large",
                "vcpuNum": 2
            },
            {
                "_defaultOrder": 22,
                "_isFastLaunch": false,
                "category": "Compute optimized",
                "gpuNum": 0,
                "hideHardwareSpecs": false,
                "memoryGiB": 8,
                "name": "ml.c5.xlarge",
                "vcpuNum": 4
            },
            {
                "_defaultOrder": 23,
                "_isFastLaunch": false,
                "category": "Compute optimized",
                "gpuNum": 0,
                "hideHardwareSpecs": false,
                "memoryGiB": 16,
                "name": "ml.c5.2xlarge",
                "vcpuNum": 8
            },
            {
                "_defaultOrder": 24,
                "_isFastLaunch": false,
                "category": "Compute optimized",
                "gpuNum": 0,
                "hideHardwareSpecs": false,
                "memoryGiB": 32,
                "name": "ml.c5.4xlarge",
                "vcpuNum": 16
            },
            {
                "_defaultOrder": 25,
                "_isFastLaunch": false,
                "category": "Compute optimized",
                "gpuNum": 0,
                "hideHardwareSpecs": false,
                "memoryGiB": 72,
                "name": "ml.c5.9xlarge",
                "vcpuNum": 36
            },
            {
                "_defaultOrder": 26,
                "_isFastLaunch": false,
                "category": "Compute optimized",
                "gpuNum": 0,
                "hideHardwareSpecs": false,
                "memoryGiB": 96,
                "name": "ml.c5.12xlarge",
                "vcpuNum": 48
            },
            {
                "_defaultOrder": 27,
                "_isFastLaunch": false,
                "category": "Compute optimized",
                "gpuNum": 0,
                "hideHardwareSpecs": false,
                "memoryGiB": 144,
                "name": "ml.c5.18xlarge",
                "vcpuNum": 72
            },
            {
                "_defaultOrder": 28,
                "_isFastLaunch": false,
                "category": "Compute optimized",
                "gpuNum": 0,
                "hideHardwareSpecs": false,
                "memoryGiB": 192,
                "name": "ml.c5.24xlarge",
                "vcpuNum": 96
            },
            {
                "_defaultOrder": 29,
                "_isFastLaunch": true,
                "category": "Accelerated computing",
                "gpuNum": 1,
                "hideHardwareSpecs": false,
                "memoryGiB": 16,
                "name": "ml.g4dn.xlarge",
                "vcpuNum": 4
            },
            {
                "_defaultOrder": 30,
                "_isFastLaunch": false,
                "category": "Accelerated computing",
                "gpuNum": 1,
                "hideHardwareSpecs": false,
                "memoryGiB": 32,
                "name": "ml.g4dn.2xlarge",
                "vcpuNum": 8
            },
            {
                "_defaultOrder": 31,
                "_isFastLaunch": false,
                "category": "Accelerated computing",
                "gpuNum": 1,
                "hideHardwareSpecs": false,
                "memoryGiB": 64,
                "name": "ml.g4dn.4xlarge",
                "vcpuNum": 16
            },
            {
                "_defaultOrder": 32,
                "_isFastLaunch": false,
                "category": "Accelerated computing",
                "gpuNum": 1,
                "hideHardwareSpecs": false,
                "memoryGiB": 128,
                "name": "ml.g4dn.8xlarge",
                "vcpuNum": 32
            },
            {
                "_defaultOrder": 33,
                "_isFastLaunch": false,
                "category": "Accelerated computing",
                "gpuNum": 4,
                "hideHardwareSpecs": false,
                "memoryGiB": 192,
                "name": "ml.g4dn.12xlarge",
                "vcpuNum": 48
            },
            {
                "_defaultOrder": 34,
                "_isFastLaunch": false,
                "category": "Accelerated computing",
                "gpuNum": 1,
                "hideHardwareSpecs": false,
                "memoryGiB": 256,
                "name": "ml.g4dn.16xlarge",
                "vcpuNum": 64
            },
            {
                "_defaultOrder": 35,
                "_isFastLaunch": false,
                "category": "Accelerated computing",
                "gpuNum": 1,
                "hideHardwareSpecs": false,
                "memoryGiB": 61,
                "name": "ml.p3.2xlarge",
                "vcpuNum": 8
            },
            {
                "_defaultOrder": 36,
                "_isFastLaunch": false,
                "category": "Accelerated computing",
                "gpuNum": 4,
                "hideHardwareSpecs": false,
                "memoryGiB": 244,
                "name": "ml.p3.8xlarge",
                "vcpuNum": 32
            },
            {
                "_defaultOrder": 37,
                "_isFastLaunch": false,
                "category": "Accelerated computing",
                "gpuNum": 8,
                "hideHardwareSpecs": false,
                "memoryGiB": 488,
                "name": "ml.p3.16xlarge",
                "vcpuNum": 64
            },
            {
                "_defaultOrder": 38,
                "_isFastLaunch": false,
                "category": "Accelerated computing",
                "gpuNum": 8,
                "hideHardwareSpecs": false,
                "memoryGiB": 768,
                "name": "ml.p3dn.24xlarge",
                "vcpuNum": 96
            },
            {
                "_defaultOrder": 39,
                "_isFastLaunch": false,
                "category": "Memory Optimized",
                "gpuNum": 0,
                "hideHardwareSpecs": false,
                "memoryGiB": 16,
                "name": "ml.r5.large",
                "vcpuNum": 2
            },
            {
                "_defaultOrder": 40,
                "_isFastLaunch": false,
                "category": "Memory Optimized",
                "gpuNum": 0,
                "hideHardwareSpecs": false,
                "memoryGiB": 32,
                "name": "ml.r5.xlarge",
                "vcpuNum": 4
            },
            {
                "_defaultOrder": 41,
                "_isFastLaunch": false,
                "category": "Memory Optimized",
                "gpuNum": 0,
                "hideHardwareSpecs": false,
                "memoryGiB": 64,
                "name": "ml.r5.2xlarge",
                "vcpuNum": 8
            },
            {
                "_defaultOrder": 42,
                "_isFastLaunch": false,
                "category": "Memory Optimized",
                "gpuNum": 0,
                "hideHardwareSpecs": false,
                "memoryGiB": 128,
                "name": "ml.r5.4xlarge",
                "vcpuNum": 16
            },
            {
                "_defaultOrder": 43,
                "_isFastLaunch": false,
                "category": "Memory Optimized",
                "gpuNum": 0,
                "hideHardwareSpecs": false,
                "memoryGiB": 256,
                "name": "ml.r5.8xlarge",
                "vcpuNum": 32
            },
            {
                "_defaultOrder": 44,
                "_isFastLaunch": false,
                "category": "Memory Optimized",
                "gpuNum": 0,
                "hideHardwareSpecs": false,
                "memoryGiB": 384,
                "name": "ml.r5.12xlarge",
                "vcpuNum": 48
            },
            {
                "_defaultOrder": 45,
                "_isFastLaunch": false,
                "category": "Memory Optimized",
                "gpuNum": 0,
                "hideHardwareSpecs": false,
                "memoryGiB": 512,
                "name": "ml.r5.16xlarge",
                "vcpuNum": 64
            },
            {
                "_defaultOrder": 46,
                "_isFastLaunch": false,
                "category": "Memory Optimized",
                "gpuNum": 0,
                "hideHardwareSpecs": false,
                "memoryGiB": 768,
                "name": "ml.r5.24xlarge",
                "vcpuNum": 96
            },
            {
                "_defaultOrder": 47,
                "_isFastLaunch": false,
                "category": "Accelerated computing",
                "gpuNum": 1,
                "hideHardwareSpecs": false,
                "memoryGiB": 16,
                "name": "ml.g5.xlarge",
                "vcpuNum": 4
            },
            {
                "_defaultOrder": 48,
                "_isFastLaunch": false,
                "category": "Accelerated computing",
                "gpuNum": 1,
                "hideHardwareSpecs": false,
                "memoryGiB": 32,
                "name": "ml.g5.2xlarge",
                "vcpuNum": 8
            },
            {
                "_defaultOrder": 49,
                "_isFastLaunch": false,
                "category": "Accelerated computing",
                "gpuNum": 1,
                "hideHardwareSpecs": false,
                "memoryGiB": 64,
                "name": "ml.g5.4xlarge",
                "vcpuNum": 16
            },
            {
                "_defaultOrder": 50,
                "_isFastLaunch": false,
                "category": "Accelerated computing",
                "gpuNum": 1,
                "hideHardwareSpecs": false,
                "memoryGiB": 128,
                "name": "ml.g5.8xlarge",
                "vcpuNum": 32
            },
            {
                "_defaultOrder": 51,
                "_isFastLaunch": false,
                "category": "Accelerated computing",
                "gpuNum": 1,
                "hideHardwareSpecs": false,
                "memoryGiB": 256,
                "name": "ml.g5.16xlarge",
                "vcpuNum": 64
            },
            {
                "_defaultOrder": 52,
                "_isFastLaunch": false,
                "category": "Accelerated computing",
                "gpuNum": 4,
                "hideHardwareSpecs": false,
                "memoryGiB": 192,
                "name": "ml.g5.12xlarge",
                "vcpuNum": 48
            },
            {
                "_defaultOrder": 53,
                "_isFastLaunch": false,
                "category": "Accelerated computing",
                "gpuNum": 4,
                "hideHardwareSpecs": false,
                "memoryGiB": 384,
                "name": "ml.g5.24xlarge",
                "vcpuNum": 96
            },
            {
                "_defaultOrder": 54,
                "_isFastLaunch": false,
                "category": "Accelerated computing",
                "gpuNum": 8,
                "hideHardwareSpecs": false,
                "memoryGiB": 768,
                "name": "ml.g5.48xlarge",
                "vcpuNum": 192
            },
            {
                "_defaultOrder": 55,
                "_isFastLaunch": false,
                "category": "Accelerated computing",
                "gpuNum": 8,
                "hideHardwareSpecs": false,
                "memoryGiB": 1152,
                "name": "ml.p4d.24xlarge",
                "vcpuNum": 96
            },
            {
                "_defaultOrder": 56,
                "_isFastLaunch": false,
                "category": "Accelerated computing",
                "gpuNum": 8,
                "hideHardwareSpecs": false,
                "memoryGiB": 1152,
                "name": "ml.p4de.24xlarge",
                "vcpuNum": 96
            }
        ],
        "instance_type": "ml.c5.2xlarge",
        "kernelspec": {
            "display_name": "Python 3 (PyTorch 2.0.0 Python 3.10 CPU Optimized)",
            "language": "python",
            "name": "python3__SAGEMAKER_INTERNAL__arn:aws:sagemaker:us-east-1:081325390199:image/pytorch-2.0.0-cpu-py310"
        },
        "language_info": {
            "codemirror_mode": {
                "name": "ipython",
                "version": 3
            },
            "file_extension": ".py",
            "mimetype": "text/x-python",
            "name": "python",
            "nbconvert_exporter": "python",
            "pygments_lexer": "ipython3",
            "version": "3.10.8"
        }
    },
    "nbformat": 4,
    "nbformat_minor": 5
}
